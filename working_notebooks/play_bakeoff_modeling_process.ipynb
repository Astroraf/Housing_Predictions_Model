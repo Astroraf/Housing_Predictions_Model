{
 "cells": [
  {
   "cell_type": "markdown",
   "metadata": {},
   "source": [
    "# Kings County Housing Prices Bakeoff\n",
    "\n",
    "Below are a list of steps that you should take while trying to complete your bake-off entry."
   ]
  },
  {
   "cell_type": "markdown",
   "metadata": {},
   "source": [
    "## Step 1: Read in Data"
   ]
  },
  {
   "cell_type": "code",
   "execution_count": 116,
   "metadata": {},
   "outputs": [],
   "source": [
    "import pandas as pd\n",
    "import numpy as np\n",
    "import scipy.stats as stats\n",
    "from scipy.stats import norm \n",
    "import math\n",
    "from sklearn.preprocessing import StandardScaler\n",
    "from sklearn.preprocessing import PolynomialFeatures\n",
    "from sklearn.linear_model import LinearRegression\n",
    "from statsmodels.formula.api import ols\n",
    "from sklearn.feature_selection import SelectKBest, f_regression,mutual_info_regression\n",
    "import statsmodels.api as sm\n",
    "import matplotlib.pyplot as plt\n",
    "import descartes\n",
    "import geopandas as gpd\n",
    "import fiona\n",
    "from shapely.geometry import Point, Polygon\n",
    "from sklearn.model_selection import train_test_split\n",
    "from sklearn import linear_model\n",
    "from sklearn import metrics\n",
    "import seaborn as sns\n",
    "plt.style.use('seaborn')\n",
    "sns.set(style=\"white\")"
   ]
  },
  {
   "cell_type": "code",
   "execution_count": 2,
   "metadata": {},
   "outputs": [],
   "source": [
    "hf = pd.read_csv('kc_house_data_train.csv')\n",
    "zipfile = \"Zip_Codes-shp\"\n",
    "street_map = gpd.read_file(zipfile)\n",
    "crs = {'init': 'epsg:4326'}"
   ]
  },
  {
   "cell_type": "code",
   "execution_count": 3,
   "metadata": {},
   "outputs": [
    {
     "data": {
      "text/plain": [
       "17290"
      ]
     },
     "execution_count": 3,
     "metadata": {},
     "output_type": "execute_result"
    }
   ],
   "source": [
    "len(hf)"
   ]
  },
  {
   "cell_type": "code",
   "execution_count": 4,
   "metadata": {},
   "outputs": [],
   "source": [
    "features = ['zipcode','bedrooms', 'bathrooms',\n",
    "       'sqft_living', 'sqft_lot', 'floors', 'waterfront', 'view', 'condition',\n",
    "       'grade', 'sqft_above', 'sqft_basement', 'yr_built', 'yr_renovated', 'sqft_living15', 'sqft_lot15']\n",
    "\n",
    "hf_features = hf[features]\n",
    "target = hf.price"
   ]
  },
  {
   "cell_type": "code",
   "execution_count": 5,
   "metadata": {},
   "outputs": [
    {
     "data": {
      "text/html": [
       "<div>\n",
       "<style scoped>\n",
       "    .dataframe tbody tr th:only-of-type {\n",
       "        vertical-align: middle;\n",
       "    }\n",
       "\n",
       "    .dataframe tbody tr th {\n",
       "        vertical-align: top;\n",
       "    }\n",
       "\n",
       "    .dataframe thead th {\n",
       "        text-align: right;\n",
       "    }\n",
       "</style>\n",
       "<table border=\"1\" class=\"dataframe\">\n",
       "  <thead>\n",
       "    <tr style=\"text-align: right;\">\n",
       "      <th></th>\n",
       "      <th>Unnamed: 0</th>\n",
       "      <th>id</th>\n",
       "      <th>date</th>\n",
       "      <th>price</th>\n",
       "      <th>bedrooms</th>\n",
       "      <th>bathrooms</th>\n",
       "      <th>sqft_living</th>\n",
       "      <th>sqft_lot</th>\n",
       "      <th>floors</th>\n",
       "      <th>waterfront</th>\n",
       "      <th>...</th>\n",
       "      <th>grade</th>\n",
       "      <th>sqft_above</th>\n",
       "      <th>sqft_basement</th>\n",
       "      <th>yr_built</th>\n",
       "      <th>yr_renovated</th>\n",
       "      <th>zipcode</th>\n",
       "      <th>lat</th>\n",
       "      <th>long</th>\n",
       "      <th>sqft_living15</th>\n",
       "      <th>sqft_lot15</th>\n",
       "    </tr>\n",
       "  </thead>\n",
       "  <tbody>\n",
       "    <tr>\n",
       "      <th>0</th>\n",
       "      <td>0</td>\n",
       "      <td>2591820310</td>\n",
       "      <td>20141006T000000</td>\n",
       "      <td>365000.0</td>\n",
       "      <td>4</td>\n",
       "      <td>2.25</td>\n",
       "      <td>2070</td>\n",
       "      <td>8893</td>\n",
       "      <td>2.0</td>\n",
       "      <td>0</td>\n",
       "      <td>...</td>\n",
       "      <td>8</td>\n",
       "      <td>2070</td>\n",
       "      <td>0</td>\n",
       "      <td>1986</td>\n",
       "      <td>0</td>\n",
       "      <td>98058</td>\n",
       "      <td>47.4388</td>\n",
       "      <td>-122.162</td>\n",
       "      <td>2390</td>\n",
       "      <td>7700</td>\n",
       "    </tr>\n",
       "    <tr>\n",
       "      <th>1</th>\n",
       "      <td>1</td>\n",
       "      <td>7974200820</td>\n",
       "      <td>20140821T000000</td>\n",
       "      <td>865000.0</td>\n",
       "      <td>5</td>\n",
       "      <td>3.00</td>\n",
       "      <td>2900</td>\n",
       "      <td>6730</td>\n",
       "      <td>1.0</td>\n",
       "      <td>0</td>\n",
       "      <td>...</td>\n",
       "      <td>8</td>\n",
       "      <td>1830</td>\n",
       "      <td>1070</td>\n",
       "      <td>1977</td>\n",
       "      <td>0</td>\n",
       "      <td>98115</td>\n",
       "      <td>47.6784</td>\n",
       "      <td>-122.285</td>\n",
       "      <td>2370</td>\n",
       "      <td>6283</td>\n",
       "    </tr>\n",
       "    <tr>\n",
       "      <th>2</th>\n",
       "      <td>2</td>\n",
       "      <td>7701450110</td>\n",
       "      <td>20140815T000000</td>\n",
       "      <td>1038000.0</td>\n",
       "      <td>4</td>\n",
       "      <td>2.50</td>\n",
       "      <td>3770</td>\n",
       "      <td>10893</td>\n",
       "      <td>2.0</td>\n",
       "      <td>0</td>\n",
       "      <td>...</td>\n",
       "      <td>11</td>\n",
       "      <td>3770</td>\n",
       "      <td>0</td>\n",
       "      <td>1997</td>\n",
       "      <td>0</td>\n",
       "      <td>98006</td>\n",
       "      <td>47.5646</td>\n",
       "      <td>-122.129</td>\n",
       "      <td>3710</td>\n",
       "      <td>9685</td>\n",
       "    </tr>\n",
       "    <tr>\n",
       "      <th>3</th>\n",
       "      <td>3</td>\n",
       "      <td>9522300010</td>\n",
       "      <td>20150331T000000</td>\n",
       "      <td>1490000.0</td>\n",
       "      <td>3</td>\n",
       "      <td>3.50</td>\n",
       "      <td>4560</td>\n",
       "      <td>14608</td>\n",
       "      <td>2.0</td>\n",
       "      <td>0</td>\n",
       "      <td>...</td>\n",
       "      <td>12</td>\n",
       "      <td>4560</td>\n",
       "      <td>0</td>\n",
       "      <td>1990</td>\n",
       "      <td>0</td>\n",
       "      <td>98034</td>\n",
       "      <td>47.6995</td>\n",
       "      <td>-122.228</td>\n",
       "      <td>4050</td>\n",
       "      <td>14226</td>\n",
       "    </tr>\n",
       "    <tr>\n",
       "      <th>4</th>\n",
       "      <td>4</td>\n",
       "      <td>9510861140</td>\n",
       "      <td>20140714T000000</td>\n",
       "      <td>711000.0</td>\n",
       "      <td>3</td>\n",
       "      <td>2.50</td>\n",
       "      <td>2550</td>\n",
       "      <td>5376</td>\n",
       "      <td>2.0</td>\n",
       "      <td>0</td>\n",
       "      <td>...</td>\n",
       "      <td>9</td>\n",
       "      <td>2550</td>\n",
       "      <td>0</td>\n",
       "      <td>2004</td>\n",
       "      <td>0</td>\n",
       "      <td>98052</td>\n",
       "      <td>47.6647</td>\n",
       "      <td>-122.083</td>\n",
       "      <td>2250</td>\n",
       "      <td>4050</td>\n",
       "    </tr>\n",
       "    <tr>\n",
       "      <th>...</th>\n",
       "      <td>...</td>\n",
       "      <td>...</td>\n",
       "      <td>...</td>\n",
       "      <td>...</td>\n",
       "      <td>...</td>\n",
       "      <td>...</td>\n",
       "      <td>...</td>\n",
       "      <td>...</td>\n",
       "      <td>...</td>\n",
       "      <td>...</td>\n",
       "      <td>...</td>\n",
       "      <td>...</td>\n",
       "      <td>...</td>\n",
       "      <td>...</td>\n",
       "      <td>...</td>\n",
       "      <td>...</td>\n",
       "      <td>...</td>\n",
       "      <td>...</td>\n",
       "      <td>...</td>\n",
       "      <td>...</td>\n",
       "      <td>...</td>\n",
       "    </tr>\n",
       "    <tr>\n",
       "      <th>17285</th>\n",
       "      <td>17285</td>\n",
       "      <td>627300195</td>\n",
       "      <td>20150303T000000</td>\n",
       "      <td>750000.0</td>\n",
       "      <td>5</td>\n",
       "      <td>2.50</td>\n",
       "      <td>3240</td>\n",
       "      <td>9960</td>\n",
       "      <td>1.0</td>\n",
       "      <td>0</td>\n",
       "      <td>...</td>\n",
       "      <td>8</td>\n",
       "      <td>2020</td>\n",
       "      <td>1220</td>\n",
       "      <td>1958</td>\n",
       "      <td>0</td>\n",
       "      <td>98008</td>\n",
       "      <td>47.5858</td>\n",
       "      <td>-122.112</td>\n",
       "      <td>2730</td>\n",
       "      <td>10400</td>\n",
       "    </tr>\n",
       "    <tr>\n",
       "      <th>17286</th>\n",
       "      <td>17286</td>\n",
       "      <td>8819900270</td>\n",
       "      <td>20140520T000000</td>\n",
       "      <td>440000.0</td>\n",
       "      <td>2</td>\n",
       "      <td>1.75</td>\n",
       "      <td>1300</td>\n",
       "      <td>4000</td>\n",
       "      <td>2.0</td>\n",
       "      <td>0</td>\n",
       "      <td>...</td>\n",
       "      <td>7</td>\n",
       "      <td>1300</td>\n",
       "      <td>0</td>\n",
       "      <td>1948</td>\n",
       "      <td>0</td>\n",
       "      <td>98105</td>\n",
       "      <td>47.6687</td>\n",
       "      <td>-122.288</td>\n",
       "      <td>1350</td>\n",
       "      <td>4013</td>\n",
       "    </tr>\n",
       "    <tr>\n",
       "      <th>17287</th>\n",
       "      <td>17287</td>\n",
       "      <td>3816300095</td>\n",
       "      <td>20140514T000000</td>\n",
       "      <td>310000.0</td>\n",
       "      <td>3</td>\n",
       "      <td>1.00</td>\n",
       "      <td>1050</td>\n",
       "      <td>9876</td>\n",
       "      <td>1.0</td>\n",
       "      <td>0</td>\n",
       "      <td>...</td>\n",
       "      <td>7</td>\n",
       "      <td>1050</td>\n",
       "      <td>0</td>\n",
       "      <td>1953</td>\n",
       "      <td>0</td>\n",
       "      <td>98028</td>\n",
       "      <td>47.7635</td>\n",
       "      <td>-122.262</td>\n",
       "      <td>1760</td>\n",
       "      <td>9403</td>\n",
       "    </tr>\n",
       "    <tr>\n",
       "      <th>17288</th>\n",
       "      <td>17288</td>\n",
       "      <td>122069107</td>\n",
       "      <td>20141204T000000</td>\n",
       "      <td>427500.0</td>\n",
       "      <td>3</td>\n",
       "      <td>1.50</td>\n",
       "      <td>1900</td>\n",
       "      <td>43186</td>\n",
       "      <td>1.5</td>\n",
       "      <td>0</td>\n",
       "      <td>...</td>\n",
       "      <td>7</td>\n",
       "      <td>1300</td>\n",
       "      <td>600</td>\n",
       "      <td>1971</td>\n",
       "      <td>0</td>\n",
       "      <td>98038</td>\n",
       "      <td>47.4199</td>\n",
       "      <td>-121.990</td>\n",
       "      <td>2080</td>\n",
       "      <td>108028</td>\n",
       "    </tr>\n",
       "    <tr>\n",
       "      <th>17289</th>\n",
       "      <td>17289</td>\n",
       "      <td>6703100135</td>\n",
       "      <td>20150116T000000</td>\n",
       "      <td>348000.0</td>\n",
       "      <td>3</td>\n",
       "      <td>1.50</td>\n",
       "      <td>1330</td>\n",
       "      <td>6768</td>\n",
       "      <td>1.0</td>\n",
       "      <td>0</td>\n",
       "      <td>...</td>\n",
       "      <td>7</td>\n",
       "      <td>1330</td>\n",
       "      <td>0</td>\n",
       "      <td>1952</td>\n",
       "      <td>0</td>\n",
       "      <td>98155</td>\n",
       "      <td>47.7366</td>\n",
       "      <td>-122.319</td>\n",
       "      <td>1320</td>\n",
       "      <td>6910</td>\n",
       "    </tr>\n",
       "  </tbody>\n",
       "</table>\n",
       "<p>17290 rows × 22 columns</p>\n",
       "</div>"
      ],
      "text/plain": [
       "       Unnamed: 0          id             date      price  bedrooms  \\\n",
       "0               0  2591820310  20141006T000000   365000.0         4   \n",
       "1               1  7974200820  20140821T000000   865000.0         5   \n",
       "2               2  7701450110  20140815T000000  1038000.0         4   \n",
       "3               3  9522300010  20150331T000000  1490000.0         3   \n",
       "4               4  9510861140  20140714T000000   711000.0         3   \n",
       "...           ...         ...              ...        ...       ...   \n",
       "17285       17285   627300195  20150303T000000   750000.0         5   \n",
       "17286       17286  8819900270  20140520T000000   440000.0         2   \n",
       "17287       17287  3816300095  20140514T000000   310000.0         3   \n",
       "17288       17288   122069107  20141204T000000   427500.0         3   \n",
       "17289       17289  6703100135  20150116T000000   348000.0         3   \n",
       "\n",
       "       bathrooms  sqft_living  sqft_lot  floors  waterfront  ...  grade  \\\n",
       "0           2.25         2070      8893     2.0           0  ...      8   \n",
       "1           3.00         2900      6730     1.0           0  ...      8   \n",
       "2           2.50         3770     10893     2.0           0  ...     11   \n",
       "3           3.50         4560     14608     2.0           0  ...     12   \n",
       "4           2.50         2550      5376     2.0           0  ...      9   \n",
       "...          ...          ...       ...     ...         ...  ...    ...   \n",
       "17285       2.50         3240      9960     1.0           0  ...      8   \n",
       "17286       1.75         1300      4000     2.0           0  ...      7   \n",
       "17287       1.00         1050      9876     1.0           0  ...      7   \n",
       "17288       1.50         1900     43186     1.5           0  ...      7   \n",
       "17289       1.50         1330      6768     1.0           0  ...      7   \n",
       "\n",
       "       sqft_above  sqft_basement  yr_built  yr_renovated  zipcode      lat  \\\n",
       "0            2070              0      1986             0    98058  47.4388   \n",
       "1            1830           1070      1977             0    98115  47.6784   \n",
       "2            3770              0      1997             0    98006  47.5646   \n",
       "3            4560              0      1990             0    98034  47.6995   \n",
       "4            2550              0      2004             0    98052  47.6647   \n",
       "...           ...            ...       ...           ...      ...      ...   \n",
       "17285        2020           1220      1958             0    98008  47.5858   \n",
       "17286        1300              0      1948             0    98105  47.6687   \n",
       "17287        1050              0      1953             0    98028  47.7635   \n",
       "17288        1300            600      1971             0    98038  47.4199   \n",
       "17289        1330              0      1952             0    98155  47.7366   \n",
       "\n",
       "          long  sqft_living15  sqft_lot15  \n",
       "0     -122.162           2390        7700  \n",
       "1     -122.285           2370        6283  \n",
       "2     -122.129           3710        9685  \n",
       "3     -122.228           4050       14226  \n",
       "4     -122.083           2250        4050  \n",
       "...        ...            ...         ...  \n",
       "17285 -122.112           2730       10400  \n",
       "17286 -122.288           1350        4013  \n",
       "17287 -122.262           1760        9403  \n",
       "17288 -121.990           2080      108028  \n",
       "17289 -122.319           1320        6910  \n",
       "\n",
       "[17290 rows x 22 columns]"
      ]
     },
     "execution_count": 5,
     "metadata": {},
     "output_type": "execute_result"
    }
   ],
   "source": [
    "hf"
   ]
  },
  {
   "cell_type": "code",
   "execution_count": 6,
   "metadata": {
    "scrolled": true
   },
   "outputs": [],
   "source": [
    "zip_grade = pd.read_csv('Niche.csv')\n",
    "hf = zip_grade.set_index('zipcode').join(hf.set_index('zipcode'))\n"
   ]
  },
  {
   "cell_type": "code",
   "execution_count": 7,
   "metadata": {},
   "outputs": [],
   "source": [
    "hf = hf.reset_index()"
   ]
  },
  {
   "cell_type": "code",
   "execution_count": 8,
   "metadata": {},
   "outputs": [],
   "source": [
    "hf = hf.dropna(subset = ['id'])"
   ]
  },
  {
   "cell_type": "code",
   "execution_count": 9,
   "metadata": {},
   "outputs": [
    {
     "data": {
      "text/plain": [
       "17290"
      ]
     },
     "execution_count": 9,
     "metadata": {},
     "output_type": "execute_result"
    }
   ],
   "source": [
    "len(hf)"
   ]
  },
  {
   "cell_type": "code",
   "execution_count": 10,
   "metadata": {
    "scrolled": true
   },
   "outputs": [
    {
     "data": {
      "text/plain": [
       "0        2014\n",
       "1        2004\n",
       "2        1967\n",
       "3        1908\n",
       "4        1909\n",
       "         ... \n",
       "17285    1942\n",
       "17286    1951\n",
       "17287    1948\n",
       "17288    1936\n",
       "17289    2012\n",
       "Name: yr_built, Length: 17290, dtype: int64"
      ]
     },
     "execution_count": 10,
     "metadata": {},
     "output_type": "execute_result"
    }
   ],
   "source": [
    "hf['yr_built']"
   ]
  },
  {
   "cell_type": "code",
   "execution_count": 11,
   "metadata": {},
   "outputs": [
    {
     "data": {
      "text/plain": [
       "3     7864\n",
       "4     5488\n",
       "2     2204\n",
       "5     1283\n",
       "6      229\n",
       "1      160\n",
       "7       30\n",
       "0       12\n",
       "8       10\n",
       "9        5\n",
       "10       3\n",
       "11       1\n",
       "33       1\n",
       "Name: bedrooms, dtype: int64"
      ]
     },
     "execution_count": 11,
     "metadata": {},
     "output_type": "execute_result"
    }
   ],
   "source": [
    "hf['bedrooms'] .value_counts()"
   ]
  },
  {
   "cell_type": "markdown",
   "metadata": {},
   "source": [
    "## Step 2: Exploratory Data Analysis \n",
    "    \n",
    "Become familiar with the data.  Look to see if there are any extreme values.  \n",
    "\n",
    "Additionally create data visualizations to determine if there are any relationships between your features and your target variables.  "
   ]
  },
  {
   "cell_type": "code",
   "execution_count": null,
   "metadata": {},
   "outputs": [],
   "source": [
    "# Plot Histogram\n",
    "sns.distplot(hf['price'] , fit=norm);\n",
    "\n",
    "# Get the fitted parameters used by the function\n",
    "(mu, sigma) = norm.fit(hf['price'])\n",
    "print( '\\n mu = {:.2f} and sigma = {:.2f}\\n'.format(mu, sigma))\n",
    "plt.legend(['Normal dist. ($\\mu=$ {:.2f} and $\\sigma=$ {:.2f} )'.format(mu, sigma)],\n",
    "            loc='best')\n",
    "plt.ylabel('Frequency')\n",
    "plt.title('SalePrice distribution')\n",
    "\n",
    "fig = plt.figure()\n",
    "res = stats.probplot(hf['price'], plot=plt)\n",
    "plt.show()\n",
    "\n",
    "print(\"Skewness: %f\" % hf['price'].skew())\n",
    "print(\"Kurtosis: %f\" % hf['price'].kurt())"
   ]
  },
  {
   "cell_type": "code",
   "execution_count": null,
   "metadata": {},
   "outputs": [],
   "source": [
    "fig, ax = plt.subplots(figsize = (15,15))\n",
    "street_map.plot(ax = ax)"
   ]
  },
  {
   "cell_type": "code",
   "execution_count": null,
   "metadata": {},
   "outputs": [],
   "source": [
    "hf.columns"
   ]
  },
  {
   "cell_type": "code",
   "execution_count": null,
   "metadata": {},
   "outputs": [],
   "source": [
    "sqliv = hf.loc[hf['sqft_living'] <= 6850]\n",
    "len(sqliv)"
   ]
  },
  {
   "cell_type": "code",
   "execution_count": null,
   "metadata": {},
   "outputs": [],
   "source": [
    "sqlot = hf.loc[hf['sqft_lot'] <= 425000]\n",
    "len(sqlot)"
   ]
  },
  {
   "cell_type": "code",
   "execution_count": null,
   "metadata": {},
   "outputs": [],
   "source": [
    "floors = hf.loc[hf['floors'] <= 3.0]\n",
    "len(floors)"
   ]
  },
  {
   "cell_type": "code",
   "execution_count": null,
   "metadata": {},
   "outputs": [],
   "source": [
    "view = hf.loc[hf['view'] >= 3]\n",
    "len(view)"
   ]
  },
  {
   "cell_type": "code",
   "execution_count": null,
   "metadata": {},
   "outputs": [],
   "source": [
    "cond = hf.loc[hf['condition'] >= 5 ]\n",
    "len(cond)"
   ]
  },
  {
   "cell_type": "code",
   "execution_count": null,
   "metadata": {},
   "outputs": [],
   "source": [
    "geometry = [Point(xy) for xy in zip(hf['long'], hf['lat'])]\n",
    "geometry[:3]"
   ]
  },
  {
   "cell_type": "code",
   "execution_count": null,
   "metadata": {
    "scrolled": true
   },
   "outputs": [],
   "source": [
    "sqabove = hf.loc[hf['sqft_above'] <= 5800]\n",
    "len(sqabove)"
   ]
  },
  {
   "cell_type": "code",
   "execution_count": null,
   "metadata": {},
   "outputs": [],
   "source": [
    "sqliv15 = hf.loc[hf['sqft_living15'] <= 4820]\n",
    "len(sqliv15)"
   ]
  },
  {
   "cell_type": "code",
   "execution_count": null,
   "metadata": {},
   "outputs": [],
   "source": [
    "sqlot15 = hf.loc[hf['sqft_lot15'] <= 250000]\n",
    "len(sqlot15)"
   ]
  },
  {
   "cell_type": "code",
   "execution_count": null,
   "metadata": {},
   "outputs": [],
   "source": [
    "sqbase = hf.loc[hf['sqft_basement'] <= 2180]\n",
    "len(sqbase)"
   ]
  },
  {
   "cell_type": "code",
   "execution_count": null,
   "metadata": {
    "scrolled": true
   },
   "outputs": [],
   "source": [
    "hf == 0"
   ]
  },
  {
   "cell_type": "code",
   "execution_count": null,
   "metadata": {
    "scrolled": true
   },
   "outputs": [],
   "source": [
    "hf[hf['bathrooms'] >= 5.5]"
   ]
  },
  {
   "cell_type": "code",
   "execution_count": null,
   "metadata": {},
   "outputs": [],
   "source": [
    "geo_df = gpd.GeoDataFrame(hf,\n",
    "                         crs = crs,\n",
    "                         geometry = geometry)\n",
    "geo_df.columns"
   ]
  },
  {
   "cell_type": "code",
   "execution_count": null,
   "metadata": {},
   "outputs": [],
   "source": [
    "fig, ax = plt.subplots(figsize = (15,15))\n",
    "street_map.plot(ax = ax, alpha = 0.4, color = 'grey')\n",
    "# geo_df[geo_df['Unnamed: 0'] >= 1000].plot(ax=ax, markersize = 20, color = 'blue', marker = \"^\", label = \"Housing ID\")\n",
    "# geo_df[geo_df['Unnamed: 0'] <= 1000].plot(ax=ax, markersize = 20, color = 'red', marker = \"o\", label = \"Housing ID\")\n",
    "geo_df[geo_df['price'] <= 7000000].plot(ax=ax, markersize = 20, color = 'green', marker = \"+\", label = \"Housing ID\")\n",
    "\n",
    "\n",
    "\n",
    "\n",
    "plt.legend(prop={'size': 15})"
   ]
  },
  {
   "cell_type": "code",
   "execution_count": null,
   "metadata": {},
   "outputs": [],
   "source": [
    "hf.shape"
   ]
  },
  {
   "cell_type": "code",
   "execution_count": null,
   "metadata": {
    "scrolled": true
   },
   "outputs": [],
   "source": [
    "hf[500:540]"
   ]
  },
  {
   "cell_type": "code",
   "execution_count": null,
   "metadata": {
    "scrolled": true
   },
   "outputs": [],
   "source": [
    "hf.corr()"
   ]
  },
  {
   "cell_type": "code",
   "execution_count": null,
   "metadata": {},
   "outputs": [],
   "source": [
    "plt.style.use('seaborn')\n",
    "sns.set(style=\"white\")\n",
    "\n",
    "# Set up  matplotlib figure (might have to play around with the \n",
    "# figsize if your labels aren't so legible and you don't want\n",
    "# to mess with the labels using matplotlib)\n",
    "f, ax = plt.subplots(figsize=(10, 9))\n",
    "\n",
    "# Create an upper triangular matrix to use to get rid of duplicate/\n",
    "# useless values\n",
    "mask = np.zeros_like(hf.corr())\n",
    "mask[np.triu_indices_from(mask)] = True\n",
    "\n",
    "# plot the heatmap\n",
    "with sns.axes_style(\"white\"):\n",
    "    ax = sns.heatmap(hf.corr(), mask=mask, square=True)\n",
    "    \n",
    "# fix for mpl bug that cuts off top/bottom of seaborn viz\n",
    "# credit: https://github.com/mwaskom/seaborn/issues/1773 SalMac86's post\n",
    "b, t = plt.ylim() # discover the values for bottom and top\n",
    "b += 0.5 # Add 0.5 to the bottom\n",
    "t -= 0.5 # Subtract 0.5 from the top\n",
    "plt.ylim(b, t) # update the ylim(bottom, top) values\n",
    "plt.show() # ta-da!"
   ]
  },
  {
   "cell_type": "code",
   "execution_count": null,
   "metadata": {},
   "outputs": [],
   "source": [
    "price_corr = hf[hf.columns[:]].corr()['price'][:] \n",
    "price_corr.sort_values()"
   ]
  },
  {
   "cell_type": "code",
   "execution_count": null,
   "metadata": {},
   "outputs": [],
   "source": [
    "plt.scatter(hf['bedrooms'], hf['bathrooms'], marker ='x');"
   ]
  },
  {
   "cell_type": "code",
   "execution_count": null,
   "metadata": {},
   "outputs": [],
   "source": [
    "plt.scatter(hf['price'], hf['bedrooms'], marker = '^')"
   ]
  },
  {
   "cell_type": "code",
   "execution_count": null,
   "metadata": {},
   "outputs": [],
   "source": [
    "plt.scatter(hf['condition'], hf['grade'], marker = '^')"
   ]
  },
  {
   "cell_type": "code",
   "execution_count": null,
   "metadata": {},
   "outputs": [],
   "source": [
    "plt.plot(np.unique(hf['price']), np.poly1d(np.polyfit(hf['price'], hf['bedrooms'], 1))(np.unique(hf['price'])))"
   ]
  },
  {
   "cell_type": "code",
   "execution_count": null,
   "metadata": {},
   "outputs": [],
   "source": [
    "\n",
    "sns.regplot(hf['price'],hf['bedrooms'], scatter_kws={\"color\": \"black\"}, line_kws={\"color\": \"red\"})"
   ]
  },
  {
   "cell_type": "code",
   "execution_count": null,
   "metadata": {},
   "outputs": [],
   "source": [
    "sns.regplot(hf['price'],hf['bathrooms'], scatter_kws={\"color\": \"black\"}, line_kws={\"color\": \"red\"})"
   ]
  },
  {
   "cell_type": "code",
   "execution_count": null,
   "metadata": {},
   "outputs": [],
   "source": [
    "hf[hf['sqft_living'] >= 12000]"
   ]
  },
  {
   "cell_type": "code",
   "execution_count": null,
   "metadata": {},
   "outputs": [],
   "source": [
    "hf['yr_renovated'].unique()"
   ]
  },
  {
   "cell_type": "code",
   "execution_count": null,
   "metadata": {},
   "outputs": [],
   "source": [
    "fig, axes = plt.subplots(7,2, figsize = (20, 20))\n",
    "\n",
    "\n",
    "sns.boxplot(ax = axes[0,0], data = hf['bedrooms'], orient = 'h')\n",
    "sns.boxplot(ax = axes[0,1], data = hf['bathrooms'], orient = 'h')\n",
    "sns.boxplot(ax = axes[1,0], data = hf['price'], orient = 'h')\n",
    "sns.boxplot(ax = axes[1,1], data = hf['sqft_living'], orient = 'h')\n",
    "sns.boxplot(ax = axes[2,0], data = hf['sqft_lot'], orient = 'h')\n",
    "sns.boxplot(ax = axes[2,1], data = hf['floors'], orient = 'h')\n",
    "sns.boxplot(ax = axes[3,0], data = hf['grade'], orient = 'h')\n",
    "sns.boxplot(ax = axes[3,1], data = hf['sqft_above'], orient = 'h')\n",
    "sns.boxplot(ax = axes[4,0], data = hf['sqft_basement'], orient = 'h')\n",
    "sns.boxplot(ax = axes[4,1], data = hf['yr_built'], orient = 'h')\n",
    "sns.boxplot(ax = axes[5,0], data = hf['yr_renovated'], orient = 'h')\n",
    "sns.boxplot(ax = axes[5,1], data = hf['zipcode'], orient = 'h')\n",
    "# sns.boxplot(ax = axes[6,0], data = hf['sqft_living15'], orient = 'h')\n",
    "# sns.boxplot(ax = axes[6,1], data = hf['sqft_lot15'], orient = 'h')\n",
    "\n",
    "\n",
    "plt.show"
   ]
  },
  {
   "cell_type": "code",
   "execution_count": null,
   "metadata": {},
   "outputs": [],
   "source": [
    "hf.describe()"
   ]
  },
  {
   "cell_type": "code",
   "execution_count": null,
   "metadata": {},
   "outputs": [],
   "source": [
    "a = hf.zipcode.unique()\n",
    "hf['geometry']"
   ]
  },
  {
   "cell_type": "code",
   "execution_count": null,
   "metadata": {},
   "outputs": [],
   "source": [
    "print(sorted(a))"
   ]
  },
  {
   "cell_type": "code",
   "execution_count": null,
   "metadata": {},
   "outputs": [],
   "source": [
    "hf.keys()"
   ]
  },
  {
   "cell_type": "code",
   "execution_count": null,
   "metadata": {},
   "outputs": [],
   "source": [
    "numerical = ['price', 'sqft_living', 'sqft_lot', 'view',\n",
    "             'sqft_above', 'sqft_basement', 'yr_built', 'yr_renovated', 'sqft_living15', 'sqft_lot15'\n",
    "    \n",
    "]\n",
    "\n",
    "categorical = ['bedrooms', 'bathrooms', 'floors', 'waterfront', 'condition', 'grade', 'zipcode'\n",
    "    \n",
    "]\n",
    "\n",
    "houses = hf[numerical + categorical]\n",
    "\n",
    "houses.shape"
   ]
  },
  {
   "cell_type": "code",
   "execution_count": null,
   "metadata": {},
   "outputs": [],
   "source": [
    "sns.set_context('notebook', font_scale = 1.4)\n",
    "\n",
    "sns.distplot(\n",
    "    houses['price'], norm_hist=False, kde=False, bins=20, hist_kws={\"alpha\": 1}\n",
    ").set(xlabel='price', ylabel='Count');"
   ]
  },
  {
   "cell_type": "code",
   "execution_count": null,
   "metadata": {},
   "outputs": [],
   "source": [
    "houses[numerical].hist(bins=15, figsize=(30, 50), layout=(13, 2));\n"
   ]
  },
  {
   "cell_type": "code",
   "execution_count": null,
   "metadata": {},
   "outputs": [],
   "source": [
    "fig, ax = plt.subplots(2, 4, figsize=(30, 20))\n",
    "for variable, subplot in zip(categorical, ax.flatten()):\n",
    "    sns.countplot(hf[variable], ax=subplot)\n",
    "    for label in subplot.get_xticklabels():\n",
    "        label.set_rotation(90)"
   ]
  },
  {
   "cell_type": "code",
   "execution_count": null,
   "metadata": {},
   "outputs": [],
   "source": [
    "sns.jointplot(x=hf['sqft_living'], y=hf['sqft_living15']);\n"
   ]
  },
  {
   "cell_type": "code",
   "execution_count": null,
   "metadata": {},
   "outputs": [],
   "source": [
    "sns.jointplot(x=hf['price'], y=hf['yr_built']);\n"
   ]
  },
  {
   "cell_type": "code",
   "execution_count": null,
   "metadata": {},
   "outputs": [],
   "source": [
    "\n",
    "fig, ax = plt.subplots(4, 2, figsize=(30, 20))\n",
    "for var, subplot in zip(categorical, ax.flatten()):\n",
    "    sns.boxplot(x=var, y='price', data=hf, ax=subplot)"
   ]
  },
  {
   "cell_type": "code",
   "execution_count": null,
   "metadata": {},
   "outputs": [],
   "source": [
    "sorted_nb = hf.groupby(['zipcode'])['price'].median().sort_values()\n",
    "sns.boxplot(x=hf['zipcode'], y=hf['price'], order=list(sorted_nb.index))"
   ]
  },
  {
   "cell_type": "code",
   "execution_count": null,
   "metadata": {},
   "outputs": [],
   "source": [
    "def correlation_heatmap(hf1):\n",
    "    _,ax=plt.subplots(figsize=(25,20))\n",
    "    colormap=sns.diverging_palette(220,10,as_cmap=True)\n",
    "    sns.heatmap(hf.corr(),annot=True,cmap=colormap)\n",
    "    \n",
    "correlation_heatmap(hf)"
   ]
  },
  {
   "cell_type": "code",
   "execution_count": null,
   "metadata": {},
   "outputs": [],
   "source": [
    "fig,axes=plt.subplots(nrows=1,ncols=1,figsize=(20,15))\n",
    "plt.title(\"house prices by sqft_above\")\n",
    "plt.xlabel('sqft_above')\n",
    "plt.ylabel('house prices')\n",
    "sns.barplot(x='sqft_above',y='price',data=hf)"
   ]
  },
  {
   "cell_type": "code",
   "execution_count": null,
   "metadata": {},
   "outputs": [],
   "source": [
    "nobed = (hf['bedrooms'] == 0 )"
   ]
  },
  {
   "cell_type": "code",
   "execution_count": null,
   "metadata": {
    "scrolled": true
   },
   "outputs": [],
   "source": [
    "hf[(hf['bathrooms'] == 2)]\n",
    "\n",
    "#avgbathrooms = hf.loc[hf['bathrooms'] == 2].mean('bedrooms')\n",
    "avgbathrooms =  hf.groupby(hf['bathrooms'] == 1)['bedrooms'].mean()\n",
    "avgbathrooms[True]"
   ]
  },
  {
   "cell_type": "code",
   "execution_count": null,
   "metadata": {},
   "outputs": [],
   "source": []
  },
  {
   "cell_type": "code",
   "execution_count": null,
   "metadata": {
    "scrolled": true
   },
   "outputs": [],
   "source": [
    "avgbathrooms =  hf.groupby('bathrooms', as_index=False)['bedrooms'].mean()\n",
    "avgbathrooms"
   ]
  },
  {
   "cell_type": "code",
   "execution_count": null,
   "metadata": {},
   "outputs": [],
   "source": [
    "(hf['sqft_living'] == 0)"
   ]
  },
  {
   "cell_type": "markdown",
   "metadata": {},
   "source": [
    "## Step 3: Clean up any issues (extreme values, etc.) with the data.  \n",
    "\n",
    "Remember that you can't just delete rows with extreme values. Similar observations might be present in the holdout data set, and you can't just delete those rows and not have a prediction for it. "
   ]
  },
  {
   "cell_type": "code",
   "execution_count": 12,
   "metadata": {},
   "outputs": [],
   "source": [
    "sq_lot_mean = hf['sqft_lot'].mean()\n",
    "sq_lot_std3 = hf['sqft_lot'].std()*3\n",
    "sq_lot_mstd = sq_lot_mean + sq_lot_std3\n",
    "\n",
    "sq_living_mean = hf['sqft_living'].mean()\n",
    "sq_living_std3 = hf['sqft_living'].std()*3\n",
    "sq_living_mstd = sq_living_mean + sq_living_std3\n",
    "\n",
    "sq_above_mean = hf['sqft_above'].mean()\n",
    "sq_above_std3 = hf['sqft_above'].std()*3\n",
    "sq_above_mstd = sq_above_mean + sq_above_std3\n",
    "\n",
    "sq_base_mean = hf['sqft_basement'].mean()\n",
    "sq_base_std3 = hf['sqft_basement'].std()*3\n",
    "sq_base_mstd = sq_base_mean + sq_base_std3"
   ]
  },
  {
   "cell_type": "code",
   "execution_count": 13,
   "metadata": {},
   "outputs": [],
   "source": [
    "def cap_sqft(row):\n",
    "    if row['sqft_lot'] > sq_lot_mstd:\n",
    "        row['sqft_lot'] = sq_lot_mstd\n",
    "    if row['sqft_living'] > sq_living_mstd:\n",
    "        row['sqft_living'] = sq_living_mstd\n",
    "    if row['sqft_above'] > sq_above_mstd :\n",
    "        row['sqft_above'] = sq_above_mstd\n",
    "    if row['sqft_basement'] > sq_base_mstd :\n",
    "        row['sqft_basement'] = sq_base_mstd \n",
    "    return row"
   ]
  },
  {
   "cell_type": "code",
   "execution_count": 14,
   "metadata": {},
   "outputs": [],
   "source": [
    "hf = hf.apply(cap_sqft, axis = 1)"
   ]
  },
  {
   "cell_type": "code",
   "execution_count": 15,
   "metadata": {},
   "outputs": [
    {
     "data": {
      "text/plain": [
       "(17290, 26)"
      ]
     },
     "execution_count": 15,
     "metadata": {},
     "output_type": "execute_result"
    }
   ],
   "source": [
    "hf.shape"
   ]
  },
  {
   "cell_type": "code",
   "execution_count": 19,
   "metadata": {},
   "outputs": [],
   "source": [
    "def zero_val_bed_bath(row):\n",
    "    \"\"\"\n",
    "    Checking extreame number of rooms in the house\n",
    "    \"\"\"\n",
    "    if row['bedrooms'] == 0:\n",
    "        row['bedrooms'] = row['floors']\n",
    "    if row['bathrooms'] < 1:\n",
    "        row['bathrooms'] = 1\n",
    "    if row['bedrooms'] > 10 :\n",
    "        row['bedrooms'] = 10\n",
    "    return row"
   ]
  },
  {
   "cell_type": "code",
   "execution_count": 20,
   "metadata": {},
   "outputs": [],
   "source": [
    "hf = hf.apply(zero_val_bed_bath, axis = 1)"
   ]
  },
  {
   "cell_type": "code",
   "execution_count": 22,
   "metadata": {},
   "outputs": [
    {
     "data": {
      "text/plain": [
       "(17290, 26)"
      ]
     },
     "execution_count": 22,
     "metadata": {},
     "output_type": "execute_result"
    }
   ],
   "source": [
    "hf.shape"
   ]
  },
  {
   "cell_type": "code",
   "execution_count": 25,
   "metadata": {},
   "outputs": [],
   "source": [
    "hf.drop(columns = ['zip_rank', 'Unnamed: 0', 'id', 'view', 'sqft_living15', 'sqft_lot15'], inplace = True)"
   ]
  },
  {
   "cell_type": "code",
   "execution_count": null,
   "metadata": {},
   "outputs": [],
   "source": [
    "features = ['bathrooms', 'population', 'yr_renovated', 'population',\n",
    "       'bedrooms', 'bathrooms', 'sqft_living', 'sqft_lot', 'floors',\n",
    "       'waterfront', 'condition', 'sqft_above', 'sqft_basement', 'grade',\n",
    "       'yr_built', 'yr_renovated']"
   ]
  },
  {
   "cell_type": "code",
   "execution_count": null,
   "metadata": {},
   "outputs": [],
   "source": [
    "model_test(hf, features, target)"
   ]
  },
  {
   "cell_type": "code",
   "execution_count": 26,
   "metadata": {},
   "outputs": [],
   "source": [
    "def define_niche_grade(row):\n",
    "    \n",
    "    if row['niche_grade'] == 'A+':\n",
    "        row['niche_grade'] = 1\n",
    "    if row['niche_grade'] == 'A+ ':\n",
    "        row['niche_grade'] = 1\n",
    "    if row['niche_grade'] == 'A':\n",
    "        row['niche_grade'] = 2\n",
    "    if row['niche_grade'] == 'A-':\n",
    "        row['niche_grade'] = 3\n",
    "    if row['niche_grade'] == 'B+':\n",
    "        row['niche_grade'] = 4\n",
    "    if row['niche_grade'] == 'B':\n",
    "        row['niche_grade'] = 5\n",
    "    if row['niche_grade'] == 'B-':\n",
    "        row['niche_grade'] = 6\n",
    "    \n",
    "    return row "
   ]
  },
  {
   "cell_type": "code",
   "execution_count": 27,
   "metadata": {},
   "outputs": [],
   "source": [
    "hf = hf.apply(define_niche_grade, axis = 1)"
   ]
  },
  {
   "cell_type": "code",
   "execution_count": null,
   "metadata": {},
   "outputs": [],
   "source": [
    "hf['niche_grade'].unique()"
   ]
  },
  {
   "cell_type": "code",
   "execution_count": null,
   "metadata": {},
   "outputs": [],
   "source": [
    "features = ['niche_grade', 'bathrooms', 'population', 'yr_renovated', 'population',\n",
    "       'bedrooms', 'bathrooms', 'sqft_living', 'sqft_lot', 'floors',\n",
    "       'waterfront', 'condition', 'sqft_above', 'sqft_basement', 'grade',\n",
    "       'yr_built', 'yr_renovated']\n",
    "\n",
    "hf_features = hf[features]\n",
    "target = hf['price']"
   ]
  },
  {
   "cell_type": "code",
   "execution_count": null,
   "metadata": {},
   "outputs": [],
   "source": [
    "model_test(hf, features, target)"
   ]
  },
  {
   "cell_type": "code",
   "execution_count": 28,
   "metadata": {},
   "outputs": [],
   "source": [
    "def define_school_grade(row):\n",
    "    \n",
    "    if row['school_grade'] == 'A+':\n",
    "        row['school_grade'] = 1\n",
    "    if row['school_grade'] == 'A+ ':\n",
    "        row['school_grade'] = 1\n",
    "    if row['school_grade'] == 'A ':\n",
    "        row['school_grade'] = 2\n",
    "    if row['school_grade'] == 'A':\n",
    "        row['school_grade'] = 2\n",
    "    if row['school_grade'] == 'A-':\n",
    "        row['school_grade'] = 3\n",
    "    if row['school_grade'] == 'A- ':\n",
    "        row['school_grade'] = 3\n",
    "    if row['school_grade'] == 'B+':\n",
    "        row['school_grade'] = 4\n",
    "    if row['school_grade'] == 'B':\n",
    "        row['school_grade'] = 5\n",
    "    if row['school_grade'] == 'B-':\n",
    "        row['school_grade'] = 6\n",
    "    if row['school_grade'] == 'C+':\n",
    "        row['school_grade'] = 7\n",
    "    \n",
    "    return row "
   ]
  },
  {
   "cell_type": "code",
   "execution_count": 29,
   "metadata": {},
   "outputs": [],
   "source": [
    "hf = hf.apply(define_school_grade, axis = 1)"
   ]
  },
  {
   "cell_type": "code",
   "execution_count": 30,
   "metadata": {},
   "outputs": [
    {
     "data": {
      "text/plain": [
       "array([6, 5, 1, 4, 3, 2, 7])"
      ]
     },
     "execution_count": 30,
     "metadata": {},
     "output_type": "execute_result"
    }
   ],
   "source": [
    "hf['school_grade'].unique()"
   ]
  },
  {
   "cell_type": "code",
   "execution_count": 31,
   "metadata": {},
   "outputs": [],
   "source": [
    "features = ['niche_grade', 'school_grade', 'bathrooms', 'population', 'yr_renovated', 'population',\n",
    "       'bedrooms', 'bathrooms', 'sqft_living', 'sqft_lot', 'floors',\n",
    "       'waterfront', 'condition', 'sqft_above', 'sqft_basement', 'grade',\n",
    "       'yr_built', 'yr_renovated']\n",
    "\n",
    "hf_features = hf[features]\n",
    "target = hf['price']"
   ]
  },
  {
   "cell_type": "code",
   "execution_count": null,
   "metadata": {},
   "outputs": [],
   "source": [
    "model_test(hf, features, target)"
   ]
  },
  {
   "cell_type": "code",
   "execution_count": 32,
   "metadata": {},
   "outputs": [
    {
     "data": {
      "text/plain": [
       "(17290, 20)"
      ]
     },
     "execution_count": 32,
     "metadata": {},
     "output_type": "execute_result"
    }
   ],
   "source": [
    "hf.shape"
   ]
  },
  {
   "cell_type": "markdown",
   "metadata": {},
   "source": [
    "## Step 4: Generate new features that you think could be important.\n",
    "\n",
    "After doing this, you will want to go back to steps 2 and 3 to investigate these new features."
   ]
  },
  {
   "cell_type": "code",
   "execution_count": 33,
   "metadata": {},
   "outputs": [],
   "source": [
    "hf['yr_updated'] = np.nan"
   ]
  },
  {
   "cell_type": "code",
   "execution_count": 34,
   "metadata": {},
   "outputs": [],
   "source": [
    "def yr_update(row):\n",
    "    \n",
    "    if row['yr_renovated'] == 0:\n",
    "        row['yr_updated'] = 2021 - row['yr_built']\n",
    "    if row['yr_renovated'] != 0:\n",
    "        row['yr_updated'] = 2021 - row['yr_built']\n",
    "        \n",
    "    return row \n",
    "    "
   ]
  },
  {
   "cell_type": "code",
   "execution_count": 36,
   "metadata": {
    "scrolled": true
   },
   "outputs": [],
   "source": [
    "hf = hf.apply(yr_update, axis = 1)"
   ]
  },
  {
   "cell_type": "code",
   "execution_count": null,
   "metadata": {},
   "outputs": [],
   "source": [
    "features = ['niche_grade', 'school_grade', 'bathrooms', 'population', 'yr_renovated', 'population',\n",
    "       'bedrooms', 'bathrooms', 'sqft_living', 'sqft_lot', 'floors',\n",
    "       'waterfront', 'condition', 'sqft_above', 'sqft_basement', 'grade',\n",
    "       'yr_built', 'yr_renovated', 'yr_updated']\n",
    "\n",
    "hf_features = hf[features]\n",
    "target = hf['price']"
   ]
  },
  {
   "cell_type": "code",
   "execution_count": null,
   "metadata": {},
   "outputs": [],
   "source": [
    "model_test(hf, features, target)"
   ]
  },
  {
   "cell_type": "code",
   "execution_count": 37,
   "metadata": {},
   "outputs": [],
   "source": [
    "hf['price_per_sqft'] = np.nan"
   ]
  },
  {
   "cell_type": "code",
   "execution_count": 38,
   "metadata": {},
   "outputs": [],
   "source": [
    "def price_per_sqft(row):\n",
    "    price_sqft = row['price'] / row['sqft_living']\n",
    "    row['price_per_sqft'] = price_sqft\n",
    "    \n",
    "    return row"
   ]
  },
  {
   "cell_type": "code",
   "execution_count": 39,
   "metadata": {},
   "outputs": [],
   "source": [
    "hf = hf.apply(price_per_sqft, axis = 1)"
   ]
  },
  {
   "cell_type": "code",
   "execution_count": null,
   "metadata": {},
   "outputs": [],
   "source": [
    "features = ['niche_grade', 'school_grade', 'bathrooms', 'population', 'yr_renovated', 'population',\n",
    "       'bedrooms', 'bathrooms', 'sqft_living', 'sqft_lot', 'floors',\n",
    "       'waterfront', 'condition', 'sqft_above', 'sqft_basement', 'grade',\n",
    "       'yr_built', 'yr_renovated', 'yr_updated', 'price_per_sqft']\n",
    "\n",
    "hf_features = hf[features]\n",
    "target = hf['price']"
   ]
  },
  {
   "cell_type": "code",
   "execution_count": null,
   "metadata": {},
   "outputs": [],
   "source": [
    "model_test(hf, features, target)"
   ]
  },
  {
   "cell_type": "code",
   "execution_count": 40,
   "metadata": {},
   "outputs": [],
   "source": [
    "hf['percent_bedbath'] = np.nan\n",
    "hf['has_golden_ratio'] = np.nan"
   ]
  },
  {
   "cell_type": "code",
   "execution_count": 41,
   "metadata": {},
   "outputs": [],
   "source": [
    "# Based off of bathrooms pros and housetipster \n",
    "\n",
    "def ratio_bed_bath(row):\n",
    "    \n",
    "    ratio_bed_bath = row['bathrooms'] / row['bedrooms']\n",
    "    golden_ratio = (2/3)\n",
    "    row['percent_bedbath'] = abs(golden_ratio - ratio_bed_bath) \n",
    "    \n",
    "    return row"
   ]
  },
  {
   "cell_type": "code",
   "execution_count": 42,
   "metadata": {},
   "outputs": [],
   "source": [
    "hf = hf.apply(ratio_bed_bath, axis = 1)"
   ]
  },
  {
   "cell_type": "code",
   "execution_count": null,
   "metadata": {},
   "outputs": [],
   "source": [
    "features = ['niche_grade', 'school_grade', 'bathrooms', 'population', 'yr_renovated', 'population',\n",
    "       'bedrooms', 'bathrooms', 'sqft_living', 'sqft_lot', 'floors',\n",
    "       'waterfront', 'condition', 'sqft_above', 'sqft_basement', 'grade'\n",
    "       'yr_built', 'yr_renovated', 'yr_updated','price_per_sqft', 'percent_bedbath']\n",
    "\n",
    "hf_features = hf[features]\n",
    "target = hf['price']"
   ]
  },
  {
   "cell_type": "code",
   "execution_count": null,
   "metadata": {},
   "outputs": [],
   "source": [
    "model_test(hf, features, target)"
   ]
  },
  {
   "cell_type": "code",
   "execution_count": 43,
   "metadata": {},
   "outputs": [],
   "source": [
    "def cal_ratio_range(row):\n",
    "    golden_ratio = (2/3)\n",
    "    golden_ratio_plus = golden_ratio + (golden_ratio * .10)\n",
    "    golden_ratio_minus = golden_ratio - (golden_ratio * .10)\n",
    "    \n",
    "    if row['percent_bedbath'] <= golden_ratio_plus and row['percent_bedbath'] >= golden_ratio_minus:\n",
    "            row['has_golden_ratio'] = 1\n",
    "    else:\n",
    "        row['has_golden_ratio'] = 0\n",
    "    \n",
    "    return row"
   ]
  },
  {
   "cell_type": "code",
   "execution_count": 44,
   "metadata": {},
   "outputs": [],
   "source": [
    "hf = hf.apply(cal_ratio_range, axis = 1)"
   ]
  },
  {
   "cell_type": "code",
   "execution_count": 46,
   "metadata": {},
   "outputs": [],
   "source": [
    "features = ['niche_grade', 'school_grade', 'bathrooms', 'population', 'yr_renovated', 'population',\n",
    "       'bedrooms', 'bathrooms', 'sqft_living', 'sqft_lot', 'floors',\n",
    "       'waterfront', 'condition', 'sqft_above', 'sqft_basement', 'grade',\n",
    "       'yr_built', 'yr_renovated', 'yr_updated', 'price_per_sqft', 'percent_bedbath', 'has_golden_ratio']\n",
    "\n",
    "hf_features = hf[features]\n",
    "target = hf['price']"
   ]
  },
  {
   "cell_type": "code",
   "execution_count": null,
   "metadata": {},
   "outputs": [],
   "source": [
    "model_test(hf, features, target)"
   ]
  },
  {
   "cell_type": "code",
   "execution_count": 47,
   "metadata": {},
   "outputs": [],
   "source": [
    "hf['ratio_liv_lot'] = np.nan"
   ]
  },
  {
   "cell_type": "code",
   "execution_count": 48,
   "metadata": {},
   "outputs": [],
   "source": [
    "def ratio_living_lot(row):\n",
    "    \n",
    "    row['ratio_liv_lot'] = row['sqft_lot'] / row['sqft_living']\n",
    "    return row\n",
    "    "
   ]
  },
  {
   "cell_type": "code",
   "execution_count": 49,
   "metadata": {},
   "outputs": [],
   "source": [
    "hf = hf.apply(ratio_living_lot, axis = 1)"
   ]
  },
  {
   "cell_type": "markdown",
   "metadata": {},
   "source": [
    "### 4.1) Identify a categorical variable in the data set and create dummy columns."
   ]
  },
  {
   "cell_type": "code",
   "execution_count": null,
   "metadata": {},
   "outputs": [],
   "source": [
    "# your code here\n",
    "# dummy variable for grade \n",
    "#"
   ]
  },
  {
   "cell_type": "code",
   "execution_count": 50,
   "metadata": {},
   "outputs": [],
   "source": [
    "hf = pd.concat([hf, pd.get_dummies(hf['grade'])], 1)"
   ]
  },
  {
   "cell_type": "code",
   "execution_count": 51,
   "metadata": {},
   "outputs": [],
   "source": [
    "hf.columns = hf.columns.astype(str)"
   ]
  },
  {
   "cell_type": "code",
   "execution_count": null,
   "metadata": {},
   "outputs": [],
   "source": [
    "# lowest g: 1\n",
    "# low g: 3 Falls short of minimum building standards. Normally cabin or inferior structure.\n",
    "\n",
    "# dnmc: 4 Generally older, low quality construction. Does not meet code.\n",
    "\n",
    "# poor: 5 Low construction costs and workmanship. Small, simple design.\n",
    "\n",
    "# bare_min: 6 Lowest grade currently meeting building code. Low quality materials and simple designs.\n",
    "\n",
    "# average: 7 Average grade of construction and design. Commonly seen in plats and older sub-divisions.\n",
    "\n",
    "# above_avg: 8 Just above average in construction and design. Usually better materials in both the exterior and interior finish work.\n",
    "\n",
    "# good: 9 Better architectural design with extra interior and exterior design and quality.\n",
    "\n",
    "# high_qua: 10 Homes of this quality generally have high quality features. Finish work is better and more design quality is seen in the floor plans. Generally have a larger square footage.\n",
    "\n",
    "# higher_qua: 11 Custom design and higher quality finish work with added amenities of solid woods, bathroom fixtures and more luxurious options.\n",
    "\n",
    "# excellent qua: 12 Custom design and excellent builders. All materials are of the highest quality and all conveniences are present.\n",
    "\n",
    "# mansion: 13 Generally custom designed and built. Mansion level. Large amount of highest quality cabinet work, wood trim, marble, entry ways etc."
   ]
  },
  {
   "cell_type": "code",
   "execution_count": 52,
   "metadata": {},
   "outputs": [],
   "source": [
    "hf = hf.rename(columns={'1': 'lowest_g', '3': 'low_g', '4':'dnmc', '5':'Poor', '6':'bare_min', \n",
    "                   '7':'average', '8':'above_avg', '9':'good', '10':'high_qua', '11':'higher_qua',\n",
    "                   '12':'excellent_qua', '13':'mansion' })"
   ]
  },
  {
   "cell_type": "code",
   "execution_count": null,
   "metadata": {},
   "outputs": [],
   "source": [
    "hf.keys()"
   ]
  },
  {
   "cell_type": "code",
   "execution_count": null,
   "metadata": {},
   "outputs": [],
   "source": [
    "features = ['niche_grade', 'school_grade', 'bathrooms', 'population', 'yr_renovated', 'population',\n",
    "       'bedrooms', 'bathrooms', 'sqft_living', 'sqft_lot', 'floors',\n",
    "       'waterfront', 'condition', 'sqft_above', 'sqft_basement',\n",
    "       'yr_built', 'yr_renovated', 'yr_updated', 'price_per_sqft', 'percent_bedbath', 'has_golden_ratio', 'lowest_g',\n",
    "       'low_g', 'dnmc', 'Poor', 'bare_min', 'average', 'above_avg', 'good',\n",
    "       'high_qua', 'higher_qua', 'excellent_qua', 'mansion']\n",
    "\n",
    "hf_features = hf[features]\n",
    "target = hf['price']"
   ]
  },
  {
   "cell_type": "code",
   "execution_count": null,
   "metadata": {},
   "outputs": [],
   "source": []
  },
  {
   "cell_type": "markdown",
   "metadata": {},
   "source": [
    "### 4.2) There is a column that gives the date for when the house was sold, how could this be useful in your model? How might you transform the current column to a more useful feature?"
   ]
  },
  {
   "cell_type": "code",
   "execution_count": null,
   "metadata": {},
   "outputs": [],
   "source": [
    "# your code here\n",
    "hf['date'] = pd.to_datetime(hf['date'], format = '%Y/%m/%d')"
   ]
  },
  {
   "cell_type": "code",
   "execution_count": null,
   "metadata": {
    "scrolled": true
   },
   "outputs": [],
   "source": [
    "hf['price_per_sqft'][:30]"
   ]
  },
  {
   "cell_type": "code",
   "execution_count": null,
   "metadata": {},
   "outputs": [],
   "source": [
    "hf.columns = hf.columns.astype(str)"
   ]
  },
  {
   "cell_type": "code",
   "execution_count": null,
   "metadata": {},
   "outputs": [],
   "source": [
    "hf.columns"
   ]
  },
  {
   "cell_type": "markdown",
   "metadata": {},
   "source": [
    "### 4.3) There are columns for when the house was built and when it was renovated.  How could you use these columns to create a new column?"
   ]
  },
  {
   "cell_type": "code",
   "execution_count": null,
   "metadata": {},
   "outputs": [],
   "source": [
    "#your code here "
   ]
  },
  {
   "cell_type": "code",
   "execution_count": null,
   "metadata": {},
   "outputs": [],
   "source": [
    "hf['price']"
   ]
  },
  {
   "cell_type": "markdown",
   "metadata": {},
   "source": [
    "### <ins>Non-linear transformations</ins>\n",
    "\n",
    "### 4.4) Create a polynomial feature for two of your continuous variables."
   ]
  },
  {
   "cell_type": "code",
   "execution_count": 53,
   "metadata": {},
   "outputs": [],
   "source": [
    "features = ['niche_grade', 'yr_updated', 'ratio_liv_lot']\n",
    "\n",
    "hf_features = hf[features]\n",
    "target = hf['price']"
   ]
  },
  {
   "cell_type": "code",
   "execution_count": 54,
   "metadata": {},
   "outputs": [],
   "source": [
    "# your code here\n",
    "poly = PolynomialFeatures(degree=2, include_bias=False)"
   ]
  },
  {
   "cell_type": "code",
   "execution_count": 55,
   "metadata": {},
   "outputs": [],
   "source": [
    "poly_data = poly.fit_transform(hf_features)"
   ]
  },
  {
   "cell_type": "code",
   "execution_count": 56,
   "metadata": {},
   "outputs": [],
   "source": [
    "poly_columns = poly.get_feature_names(hf_features.columns)"
   ]
  },
  {
   "cell_type": "code",
   "execution_count": 57,
   "metadata": {},
   "outputs": [],
   "source": [
    "df_poly = pd.DataFrame(poly_data, columns=poly_columns)"
   ]
  },
  {
   "cell_type": "code",
   "execution_count": 58,
   "metadata": {},
   "outputs": [
    {
     "data": {
      "text/plain": [
       "Index(['niche_grade', 'yr_updated', 'ratio_liv_lot', 'niche_grade^2',\n",
       "       'niche_grade yr_updated', 'niche_grade ratio_liv_lot', 'yr_updated^2',\n",
       "       'yr_updated ratio_liv_lot', 'ratio_liv_lot^2'],\n",
       "      dtype='object')"
      ]
     },
     "execution_count": 58,
     "metadata": {},
     "output_type": "execute_result"
    }
   ],
   "source": [
    "df_poly.columns"
   ]
  },
  {
   "cell_type": "code",
   "execution_count": 59,
   "metadata": {},
   "outputs": [],
   "source": [
    "lm_2 = LinearRegression()\n",
    "\n",
    "#fit the linear regression to the data\n",
    "lm_2 = lm_2.fit(df_poly, target)"
   ]
  },
  {
   "cell_type": "code",
   "execution_count": 60,
   "metadata": {},
   "outputs": [
    {
     "data": {
      "text/plain": [
       "0.2529775096698009"
      ]
     },
     "execution_count": 60,
     "metadata": {},
     "output_type": "execute_result"
    }
   ],
   "source": [
    "lm_2.score(df_poly, target)"
   ]
  },
  {
   "cell_type": "code",
   "execution_count": 61,
   "metadata": {},
   "outputs": [],
   "source": [
    "X_train_poly, X_test_poly, y_train_poly, y_test_poly = train_test_split(df_poly, target, random_state=34,test_size=0.2)\n"
   ]
  },
  {
   "cell_type": "code",
   "execution_count": 62,
   "metadata": {},
   "outputs": [],
   "source": [
    "#instantiate a linear regression object\n",
    "lr_poly = LinearRegression()\n",
    "\n",
    "#fit the linear regression to the data\n",
    "lr_poly = lr_poly.fit(X_train_poly, y_train_poly)"
   ]
  },
  {
   "cell_type": "code",
   "execution_count": 63,
   "metadata": {},
   "outputs": [],
   "source": [
    "train_preds = lr_poly.predict(X_train_poly)"
   ]
  },
  {
   "cell_type": "code",
   "execution_count": 64,
   "metadata": {},
   "outputs": [
    {
     "name": "stdout",
     "output_type": "stream",
     "text": [
      "Root Mean Squared Error: 323005.60230211547\n"
     ]
    }
   ],
   "source": [
    "train_rmse_poly = np.sqrt(metrics.mean_squared_error(y_train_poly, train_preds))\n",
    "\n",
    "print('Root Mean Squared Error:' , train_rmse_poly)"
   ]
  },
  {
   "cell_type": "markdown",
   "metadata": {},
   "source": [
    "### 4.5) Create an interaction feature between a binary variable (dummy variable) and a continuous variable."
   ]
  },
  {
   "cell_type": "code",
   "execution_count": 65,
   "metadata": {},
   "outputs": [],
   "source": [
    "# your code here\n",
    "# waterfront times sqft_lot\n",
    "hf = pd.concat([hf, pd.get_dummies(hf['waterfront'])], 1)"
   ]
  },
  {
   "cell_type": "code",
   "execution_count": 66,
   "metadata": {},
   "outputs": [],
   "source": [
    "hf = hf.rename(columns={0: \"No_Waterfront\", 1: \"Waterfront\"})"
   ]
  },
  {
   "cell_type": "code",
   "execution_count": null,
   "metadata": {
    "scrolled": true
   },
   "outputs": [],
   "source": [
    "hf"
   ]
  },
  {
   "cell_type": "code",
   "execution_count": 67,
   "metadata": {},
   "outputs": [],
   "source": [
    "hf['water_sqft_lot'] = np.nan"
   ]
  },
  {
   "cell_type": "code",
   "execution_count": 68,
   "metadata": {},
   "outputs": [],
   "source": [
    "def water_lot(row):\n",
    "    if row['waterfront'] == 1:\n",
    "        row['water_sqft_lot'] = row['Waterfront'] * row['sqft_lot'] \n",
    "    if row['waterfront'] == 0:\n",
    "        row['water_sqft_lot'] = 0\n",
    "    return row"
   ]
  },
  {
   "cell_type": "code",
   "execution_count": 69,
   "metadata": {},
   "outputs": [],
   "source": [
    "hf = hf.apply(water_lot, axis=1)"
   ]
  },
  {
   "cell_type": "code",
   "execution_count": null,
   "metadata": {},
   "outputs": [],
   "source": [
    "hf.drop(columns='waterfront')"
   ]
  },
  {
   "cell_type": "code",
   "execution_count": 223,
   "metadata": {},
   "outputs": [],
   "source": [
    "features = ['population','bedrooms', 'bathrooms',\n",
    "       'sqft_living', 'sqft_lot', 'floors', 'waterfront', 'condition',\n",
    "       'grade', 'sqft_above', 'sqft_basement', 'yr_built', 'yr_renovated',\n",
    "        'yr_updated', 'percent_bedbath', 'has_golden_ratio',  'lowest_g',\n",
    "       'low_g', 'dnmc', 'Poor', 'bare_min', 'average', 'above_avg', 'good',\n",
    "       'high_qua', 'higher_qua', 'excellent_qua', 'mansion', 'No_Waterfront', 'Waterfront', 'water_sqft_lot', 'ratio_liv_lot']\n",
    "\n",
    "hf_features = hf[features]\n",
    "target = hf.price"
   ]
  },
  {
   "cell_type": "code",
   "execution_count": null,
   "metadata": {},
   "outputs": [],
   "source": [
    "model_test(hf, features, target)"
   ]
  },
  {
   "cell_type": "markdown",
   "metadata": {},
   "source": [
    "## Step 5: Train-Test Split\n",
    "\n",
    "If you plan on doing any scaling of your data, make sure it is done at the appropriate time. "
   ]
  },
  {
   "cell_type": "code",
   "execution_count": 70,
   "metadata": {},
   "outputs": [
    {
     "data": {
      "text/plain": [
       "Index(['zipcode', 'niche_grade', 'school_grade', 'population', 'date', 'price',\n",
       "       'bedrooms', 'bathrooms', 'sqft_living', 'sqft_lot', 'floors',\n",
       "       'waterfront', 'condition', 'grade', 'sqft_above', 'sqft_basement',\n",
       "       'yr_built', 'yr_renovated', 'lat', 'long', 'yr_updated',\n",
       "       'price_per_sqft', 'percent_bedbath', 'has_golden_ratio',\n",
       "       'ratio_liv_lot', 'lowest_g', 'low_g', 'dnmc', 'Poor', 'bare_min',\n",
       "       'average', 'above_avg', 'good', 'high_qua', 'higher_qua',\n",
       "       'excellent_qua', 'mansion', 'No_Waterfront', 'Waterfront',\n",
       "       'water_sqft_lot'],\n",
       "      dtype='object')"
      ]
     },
     "execution_count": 70,
     "metadata": {},
     "output_type": "execute_result"
    }
   ],
   "source": [
    "hf.columns"
   ]
  },
  {
   "cell_type": "code",
   "execution_count": 229,
   "metadata": {},
   "outputs": [],
   "source": [
    "features = [ 'niche_grade', 'school_grade','population','bedrooms', 'bathrooms',\n",
    "       'sqft_living', 'sqft_lot', 'floors', 'waterfront', 'condition',\n",
    "       'sqft_above', 'sqft_basement', 'yr_built', 'yr_renovated', \n",
    "        'yr_updated', 'percent_bedbath', 'has_golden_ratio', 'ratio_liv_lot', 'lowest_g',\n",
    "       'low_g', 'dnmc', 'Poor', 'bare_min', 'average', 'above_avg', 'good',\n",
    "       'high_qua', 'higher_qua', 'excellent_qua', 'mansion', 'No_Waterfront', \n",
    "            'Waterfront', 'water_sqft_lot']\n",
    "\n",
    "hf_features = hf[features]\n",
    "target = hf.price"
   ]
  },
  {
   "cell_type": "code",
   "execution_count": 230,
   "metadata": {},
   "outputs": [
    {
     "data": {
      "text/plain": [
       "array([309000., 286651., 260000., ..., 671000., 827235., 557800.])"
      ]
     },
     "execution_count": 230,
     "metadata": {},
     "output_type": "execute_result"
    }
   ],
   "source": [
    "hf_features\n",
    "target.unique()"
   ]
  },
  {
   "cell_type": "markdown",
   "metadata": {},
   "source": [
    "### 5.1) Perform a train-test split of the data."
   ]
  },
  {
   "cell_type": "code",
   "execution_count": 231,
   "metadata": {},
   "outputs": [],
   "source": [
    "def model_test(df, features, target):\n",
    "    df_features = df[features]\n",
    "    X_train, X_test, y_train, y_test = train_test_split(df_features, target, random_state=34,test_size=0.2)\n",
    "    #instantiate a linear regression object\n",
    "    lm = linear_model.LinearRegression()\n",
    "\n",
    "    #fit the linear regression to the data\n",
    "    lm = lm.fit(X_train, y_train)\n",
    "    \n",
    "    y_train_pred = lm.predict(X_train)\n",
    "    \n",
    "    train_mae = metrics.mean_absolute_error(y_train, y_train_pred)\n",
    "    train_mse = metrics.mean_squared_error(y_train, y_train_pred)\n",
    "    train_rmse = np.sqrt(metrics.mean_squared_error(y_train, y_train_pred))\n",
    "   \n",
    "    # Test Set\n",
    "    y_pred = lm.predict(X_test)\n",
    "    \n",
    "    #test_mae = metrics.mean_absolute_error(y_test, y_pred)\n",
    "    test_rmse = np.sqrt(metrics.mean_squared_error(y_test, y_pred))\n",
    "\n",
    "    #print('Mean Absolute Error:' + str(metrics.mean_absolute_error(y_test, y_pred)))\n",
    "    #print('Mean Squared Error:' + str(metrics.mean_squared_error(y_test, y_pred)))\n",
    "    print('Training: ', int(train_rmse), \"vs. Testing: \", int(test_rmse))"
   ]
  },
  {
   "cell_type": "code",
   "execution_count": 232,
   "metadata": {},
   "outputs": [
    {
     "name": "stdout",
     "output_type": "stream",
     "text": [
      "Training:  189808 vs. Testing:  185552\n"
     ]
    }
   ],
   "source": [
    "model_test(hf, features, target)"
   ]
  },
  {
   "cell_type": "markdown",
   "metadata": {},
   "source": [
    "### 5.2) Fit your scaler to training the data."
   ]
  },
  {
   "cell_type": "code",
   "execution_count": 241,
   "metadata": {},
   "outputs": [],
   "source": [
    "features = ['school_grade', 'population', 'bedrooms', 'bathrooms',\n",
    "       'sqft_living', 'sqft_lot', 'floors', 'waterfront', 'condition',\n",
    "       'sqft_above', 'sqft_basement', 'yr_built', 'yr_renovated',\n",
    "       'percent_bedbath', 'has_golden_ratio', 'lowest_g',\n",
    "       'low_g', 'dnmc', 'Poor', 'bare_min', 'average', 'above_avg', 'good',\n",
    "       'high_qua', 'higher_qua', 'excellent_qua', 'mansion', 'No_Waterfront',\n",
    "       'Waterfront', 'water_sqft_lot']"
   ]
  },
  {
   "cell_type": "code",
   "execution_count": 242,
   "metadata": {},
   "outputs": [],
   "source": [
    "scale_df = pd.concat([hf[features], df_poly], 1)"
   ]
  },
  {
   "cell_type": "code",
   "execution_count": 243,
   "metadata": {},
   "outputs": [
    {
     "data": {
      "text/html": [
       "<div>\n",
       "<style scoped>\n",
       "    .dataframe tbody tr th:only-of-type {\n",
       "        vertical-align: middle;\n",
       "    }\n",
       "\n",
       "    .dataframe tbody tr th {\n",
       "        vertical-align: top;\n",
       "    }\n",
       "\n",
       "    .dataframe thead th {\n",
       "        text-align: right;\n",
       "    }\n",
       "</style>\n",
       "<table border=\"1\" class=\"dataframe\">\n",
       "  <thead>\n",
       "    <tr style=\"text-align: right;\">\n",
       "      <th></th>\n",
       "      <th>school_grade</th>\n",
       "      <th>population</th>\n",
       "      <th>bedrooms</th>\n",
       "      <th>bathrooms</th>\n",
       "      <th>sqft_living</th>\n",
       "      <th>sqft_lot</th>\n",
       "      <th>floors</th>\n",
       "      <th>waterfront</th>\n",
       "      <th>condition</th>\n",
       "      <th>sqft_above</th>\n",
       "      <th>...</th>\n",
       "      <th>water_sqft_lot</th>\n",
       "      <th>niche_grade</th>\n",
       "      <th>yr_updated</th>\n",
       "      <th>ratio_liv_lot</th>\n",
       "      <th>niche_grade^2</th>\n",
       "      <th>niche_grade yr_updated</th>\n",
       "      <th>niche_grade ratio_liv_lot</th>\n",
       "      <th>yr_updated^2</th>\n",
       "      <th>yr_updated ratio_liv_lot</th>\n",
       "      <th>ratio_liv_lot^2</th>\n",
       "    </tr>\n",
       "  </thead>\n",
       "  <tbody>\n",
       "    <tr>\n",
       "      <th>0</th>\n",
       "      <td>6</td>\n",
       "      <td>32625</td>\n",
       "      <td>5.0</td>\n",
       "      <td>2.75</td>\n",
       "      <td>2481.0</td>\n",
       "      <td>4045.0</td>\n",
       "      <td>2.0</td>\n",
       "      <td>0</td>\n",
       "      <td>3</td>\n",
       "      <td>2481.0</td>\n",
       "      <td>...</td>\n",
       "      <td>0.0</td>\n",
       "      <td>5.0</td>\n",
       "      <td>7.0</td>\n",
       "      <td>1.630391</td>\n",
       "      <td>25.0</td>\n",
       "      <td>35.0</td>\n",
       "      <td>8.151955</td>\n",
       "      <td>49.0</td>\n",
       "      <td>11.412737</td>\n",
       "      <td>2.658175</td>\n",
       "    </tr>\n",
       "    <tr>\n",
       "      <th>1</th>\n",
       "      <td>6</td>\n",
       "      <td>32625</td>\n",
       "      <td>3.0</td>\n",
       "      <td>2.50</td>\n",
       "      <td>1830.0</td>\n",
       "      <td>4997.0</td>\n",
       "      <td>2.0</td>\n",
       "      <td>0</td>\n",
       "      <td>3</td>\n",
       "      <td>1830.0</td>\n",
       "      <td>...</td>\n",
       "      <td>0.0</td>\n",
       "      <td>5.0</td>\n",
       "      <td>17.0</td>\n",
       "      <td>2.730601</td>\n",
       "      <td>25.0</td>\n",
       "      <td>85.0</td>\n",
       "      <td>13.653005</td>\n",
       "      <td>289.0</td>\n",
       "      <td>46.420219</td>\n",
       "      <td>7.456182</td>\n",
       "    </tr>\n",
       "    <tr>\n",
       "      <th>2</th>\n",
       "      <td>6</td>\n",
       "      <td>32625</td>\n",
       "      <td>5.0</td>\n",
       "      <td>2.25</td>\n",
       "      <td>2320.0</td>\n",
       "      <td>6375.0</td>\n",
       "      <td>1.0</td>\n",
       "      <td>0</td>\n",
       "      <td>4</td>\n",
       "      <td>1270.0</td>\n",
       "      <td>...</td>\n",
       "      <td>0.0</td>\n",
       "      <td>5.0</td>\n",
       "      <td>54.0</td>\n",
       "      <td>2.747845</td>\n",
       "      <td>25.0</td>\n",
       "      <td>270.0</td>\n",
       "      <td>13.739224</td>\n",
       "      <td>2916.0</td>\n",
       "      <td>148.383621</td>\n",
       "      <td>7.550651</td>\n",
       "    </tr>\n",
       "    <tr>\n",
       "      <th>3</th>\n",
       "      <td>6</td>\n",
       "      <td>32625</td>\n",
       "      <td>3.0</td>\n",
       "      <td>1.00</td>\n",
       "      <td>1150.0</td>\n",
       "      <td>19200.0</td>\n",
       "      <td>1.0</td>\n",
       "      <td>0</td>\n",
       "      <td>4</td>\n",
       "      <td>1150.0</td>\n",
       "      <td>...</td>\n",
       "      <td>0.0</td>\n",
       "      <td>5.0</td>\n",
       "      <td>113.0</td>\n",
       "      <td>16.695652</td>\n",
       "      <td>25.0</td>\n",
       "      <td>565.0</td>\n",
       "      <td>83.478261</td>\n",
       "      <td>12769.0</td>\n",
       "      <td>1886.608696</td>\n",
       "      <td>278.744802</td>\n",
       "    </tr>\n",
       "    <tr>\n",
       "      <th>4</th>\n",
       "      <td>6</td>\n",
       "      <td>32625</td>\n",
       "      <td>3.0</td>\n",
       "      <td>1.00</td>\n",
       "      <td>940.0</td>\n",
       "      <td>10890.0</td>\n",
       "      <td>1.0</td>\n",
       "      <td>0</td>\n",
       "      <td>4</td>\n",
       "      <td>940.0</td>\n",
       "      <td>...</td>\n",
       "      <td>0.0</td>\n",
       "      <td>5.0</td>\n",
       "      <td>112.0</td>\n",
       "      <td>11.585106</td>\n",
       "      <td>25.0</td>\n",
       "      <td>560.0</td>\n",
       "      <td>57.925532</td>\n",
       "      <td>12544.0</td>\n",
       "      <td>1297.531915</td>\n",
       "      <td>134.214690</td>\n",
       "    </tr>\n",
       "    <tr>\n",
       "      <th>...</th>\n",
       "      <td>...</td>\n",
       "      <td>...</td>\n",
       "      <td>...</td>\n",
       "      <td>...</td>\n",
       "      <td>...</td>\n",
       "      <td>...</td>\n",
       "      <td>...</td>\n",
       "      <td>...</td>\n",
       "      <td>...</td>\n",
       "      <td>...</td>\n",
       "      <td>...</td>\n",
       "      <td>...</td>\n",
       "      <td>...</td>\n",
       "      <td>...</td>\n",
       "      <td>...</td>\n",
       "      <td>...</td>\n",
       "      <td>...</td>\n",
       "      <td>...</td>\n",
       "      <td>...</td>\n",
       "      <td>...</td>\n",
       "      <td>...</td>\n",
       "    </tr>\n",
       "    <tr>\n",
       "      <th>17285</th>\n",
       "      <td>3</td>\n",
       "      <td>21954</td>\n",
       "      <td>2.0</td>\n",
       "      <td>1.00</td>\n",
       "      <td>810.0</td>\n",
       "      <td>6480.0</td>\n",
       "      <td>1.0</td>\n",
       "      <td>0</td>\n",
       "      <td>5</td>\n",
       "      <td>810.0</td>\n",
       "      <td>...</td>\n",
       "      <td>0.0</td>\n",
       "      <td>2.0</td>\n",
       "      <td>79.0</td>\n",
       "      <td>8.000000</td>\n",
       "      <td>4.0</td>\n",
       "      <td>158.0</td>\n",
       "      <td>16.000000</td>\n",
       "      <td>6241.0</td>\n",
       "      <td>632.000000</td>\n",
       "      <td>64.000000</td>\n",
       "    </tr>\n",
       "    <tr>\n",
       "      <th>17286</th>\n",
       "      <td>3</td>\n",
       "      <td>21954</td>\n",
       "      <td>4.0</td>\n",
       "      <td>2.50</td>\n",
       "      <td>3690.0</td>\n",
       "      <td>11191.0</td>\n",
       "      <td>1.0</td>\n",
       "      <td>0</td>\n",
       "      <td>4</td>\n",
       "      <td>2190.0</td>\n",
       "      <td>...</td>\n",
       "      <td>0.0</td>\n",
       "      <td>2.0</td>\n",
       "      <td>70.0</td>\n",
       "      <td>3.032791</td>\n",
       "      <td>4.0</td>\n",
       "      <td>140.0</td>\n",
       "      <td>6.065583</td>\n",
       "      <td>4900.0</td>\n",
       "      <td>212.295393</td>\n",
       "      <td>9.197823</td>\n",
       "    </tr>\n",
       "    <tr>\n",
       "      <th>17287</th>\n",
       "      <td>3</td>\n",
       "      <td>21954</td>\n",
       "      <td>3.0</td>\n",
       "      <td>2.50</td>\n",
       "      <td>3560.0</td>\n",
       "      <td>8297.0</td>\n",
       "      <td>1.0</td>\n",
       "      <td>0</td>\n",
       "      <td>4</td>\n",
       "      <td>1650.0</td>\n",
       "      <td>...</td>\n",
       "      <td>0.0</td>\n",
       "      <td>2.0</td>\n",
       "      <td>73.0</td>\n",
       "      <td>2.330618</td>\n",
       "      <td>4.0</td>\n",
       "      <td>146.0</td>\n",
       "      <td>4.661236</td>\n",
       "      <td>5329.0</td>\n",
       "      <td>170.135112</td>\n",
       "      <td>5.431780</td>\n",
       "    </tr>\n",
       "    <tr>\n",
       "      <th>17288</th>\n",
       "      <td>3</td>\n",
       "      <td>21954</td>\n",
       "      <td>2.0</td>\n",
       "      <td>2.50</td>\n",
       "      <td>2720.0</td>\n",
       "      <td>4913.0</td>\n",
       "      <td>1.0</td>\n",
       "      <td>0</td>\n",
       "      <td>4</td>\n",
       "      <td>1700.0</td>\n",
       "      <td>...</td>\n",
       "      <td>0.0</td>\n",
       "      <td>2.0</td>\n",
       "      <td>85.0</td>\n",
       "      <td>1.806250</td>\n",
       "      <td>4.0</td>\n",
       "      <td>170.0</td>\n",
       "      <td>3.612500</td>\n",
       "      <td>7225.0</td>\n",
       "      <td>153.531250</td>\n",
       "      <td>3.262539</td>\n",
       "    </tr>\n",
       "    <tr>\n",
       "      <th>17289</th>\n",
       "      <td>3</td>\n",
       "      <td>21954</td>\n",
       "      <td>3.0</td>\n",
       "      <td>2.50</td>\n",
       "      <td>1740.0</td>\n",
       "      <td>1251.0</td>\n",
       "      <td>2.0</td>\n",
       "      <td>0</td>\n",
       "      <td>3</td>\n",
       "      <td>1180.0</td>\n",
       "      <td>...</td>\n",
       "      <td>0.0</td>\n",
       "      <td>2.0</td>\n",
       "      <td>9.0</td>\n",
       "      <td>0.718966</td>\n",
       "      <td>4.0</td>\n",
       "      <td>18.0</td>\n",
       "      <td>1.437931</td>\n",
       "      <td>81.0</td>\n",
       "      <td>6.470690</td>\n",
       "      <td>0.516911</td>\n",
       "    </tr>\n",
       "  </tbody>\n",
       "</table>\n",
       "<p>17290 rows × 39 columns</p>\n",
       "</div>"
      ],
      "text/plain": [
       "       school_grade  population  bedrooms  bathrooms  sqft_living  sqft_lot  \\\n",
       "0                 6       32625       5.0       2.75       2481.0    4045.0   \n",
       "1                 6       32625       3.0       2.50       1830.0    4997.0   \n",
       "2                 6       32625       5.0       2.25       2320.0    6375.0   \n",
       "3                 6       32625       3.0       1.00       1150.0   19200.0   \n",
       "4                 6       32625       3.0       1.00        940.0   10890.0   \n",
       "...             ...         ...       ...        ...          ...       ...   \n",
       "17285             3       21954       2.0       1.00        810.0    6480.0   \n",
       "17286             3       21954       4.0       2.50       3690.0   11191.0   \n",
       "17287             3       21954       3.0       2.50       3560.0    8297.0   \n",
       "17288             3       21954       2.0       2.50       2720.0    4913.0   \n",
       "17289             3       21954       3.0       2.50       1740.0    1251.0   \n",
       "\n",
       "       floors  waterfront  condition  sqft_above  ...  water_sqft_lot  \\\n",
       "0         2.0           0          3      2481.0  ...             0.0   \n",
       "1         2.0           0          3      1830.0  ...             0.0   \n",
       "2         1.0           0          4      1270.0  ...             0.0   \n",
       "3         1.0           0          4      1150.0  ...             0.0   \n",
       "4         1.0           0          4       940.0  ...             0.0   \n",
       "...       ...         ...        ...         ...  ...             ...   \n",
       "17285     1.0           0          5       810.0  ...             0.0   \n",
       "17286     1.0           0          4      2190.0  ...             0.0   \n",
       "17287     1.0           0          4      1650.0  ...             0.0   \n",
       "17288     1.0           0          4      1700.0  ...             0.0   \n",
       "17289     2.0           0          3      1180.0  ...             0.0   \n",
       "\n",
       "       niche_grade  yr_updated  ratio_liv_lot  niche_grade^2  \\\n",
       "0              5.0         7.0       1.630391           25.0   \n",
       "1              5.0        17.0       2.730601           25.0   \n",
       "2              5.0        54.0       2.747845           25.0   \n",
       "3              5.0       113.0      16.695652           25.0   \n",
       "4              5.0       112.0      11.585106           25.0   \n",
       "...            ...         ...            ...            ...   \n",
       "17285          2.0        79.0       8.000000            4.0   \n",
       "17286          2.0        70.0       3.032791            4.0   \n",
       "17287          2.0        73.0       2.330618            4.0   \n",
       "17288          2.0        85.0       1.806250            4.0   \n",
       "17289          2.0         9.0       0.718966            4.0   \n",
       "\n",
       "       niche_grade yr_updated  niche_grade ratio_liv_lot  yr_updated^2  \\\n",
       "0                        35.0                   8.151955          49.0   \n",
       "1                        85.0                  13.653005         289.0   \n",
       "2                       270.0                  13.739224        2916.0   \n",
       "3                       565.0                  83.478261       12769.0   \n",
       "4                       560.0                  57.925532       12544.0   \n",
       "...                       ...                        ...           ...   \n",
       "17285                   158.0                  16.000000        6241.0   \n",
       "17286                   140.0                   6.065583        4900.0   \n",
       "17287                   146.0                   4.661236        5329.0   \n",
       "17288                   170.0                   3.612500        7225.0   \n",
       "17289                    18.0                   1.437931          81.0   \n",
       "\n",
       "       yr_updated ratio_liv_lot  ratio_liv_lot^2  \n",
       "0                     11.412737         2.658175  \n",
       "1                     46.420219         7.456182  \n",
       "2                    148.383621         7.550651  \n",
       "3                   1886.608696       278.744802  \n",
       "4                   1297.531915       134.214690  \n",
       "...                         ...              ...  \n",
       "17285                632.000000        64.000000  \n",
       "17286                212.295393         9.197823  \n",
       "17287                170.135112         5.431780  \n",
       "17288                153.531250         3.262539  \n",
       "17289                  6.470690         0.516911  \n",
       "\n",
       "[17290 rows x 39 columns]"
      ]
     },
     "execution_count": 243,
     "metadata": {},
     "output_type": "execute_result"
    }
   ],
   "source": [
    "scale_df"
   ]
  },
  {
   "cell_type": "code",
   "execution_count": 244,
   "metadata": {},
   "outputs": [],
   "source": [
    "X_train, X_test, y_train, y_test = train_test_split(scale_df, target, random_state=34,test_size=0.2)"
   ]
  },
  {
   "cell_type": "code",
   "execution_count": 245,
   "metadata": {},
   "outputs": [
    {
     "data": {
      "text/plain": [
       "Index(['school_grade', 'population', 'bedrooms', 'bathrooms', 'sqft_living',\n",
       "       'sqft_lot', 'floors', 'waterfront', 'condition', 'sqft_above',\n",
       "       'sqft_basement', 'yr_built', 'yr_renovated', 'percent_bedbath',\n",
       "       'has_golden_ratio', 'lowest_g', 'low_g', 'dnmc', 'Poor', 'bare_min',\n",
       "       'average', 'above_avg', 'good', 'high_qua', 'higher_qua',\n",
       "       'excellent_qua', 'mansion', 'No_Waterfront', 'Waterfront',\n",
       "       'water_sqft_lot', 'niche_grade', 'yr_updated', 'ratio_liv_lot',\n",
       "       'niche_grade^2', 'niche_grade yr_updated', 'niche_grade ratio_liv_lot',\n",
       "       'yr_updated^2', 'yr_updated ratio_liv_lot', 'ratio_liv_lot^2'],\n",
       "      dtype='object')"
      ]
     },
     "execution_count": 245,
     "metadata": {},
     "output_type": "execute_result"
    }
   ],
   "source": [
    "X_train.select_dtypes(include=[\"number\"]).columns"
   ]
  },
  {
   "cell_type": "code",
   "execution_count": 246,
   "metadata": {},
   "outputs": [
    {
     "data": {
      "text/plain": [
       "['condition',\n",
       " 'percent_bedbath',\n",
       " 'lowest_g',\n",
       " 'low_g',\n",
       " 'dnmc',\n",
       " 'above_avg',\n",
       " 'ratio_liv_lot',\n",
       " 'yr_updated^2',\n",
       " 'ratio_liv_lot^2']"
      ]
     },
     "execution_count": 246,
     "metadata": {},
     "output_type": "execute_result"
    }
   ],
   "source": [
    "['condition',\n",
    " 'percent_bedbath',\n",
    " 'lowest_g',\n",
    " 'low_g',\n",
    " 'dnmc',\n",
    " 'above_avg',\n",
    " 'ratio_liv_lot',\n",
    " 'yr_updated^2',\n",
    " 'ratio_liv_lot^2']"
   ]
  },
  {
   "cell_type": "code",
   "execution_count": 247,
   "metadata": {},
   "outputs": [],
   "source": [
    "#your code here \n",
    "scaled_features = [ 'niche_grade', 'school_grade','population',\n",
    "       'sqft_living', 'sqft_lot', 'sqft_above', 'sqft_basement', 'yr_built',\n",
    "        'yr_renovated',  'yr_updated', 'has_golden_ratio', 'Poor', 'bare_min', 'average', 'good',\n",
    "       'high_qua', 'higher_qua', 'excellent_qua', 'mansion', 'water_sqft_lot']"
   ]
  },
  {
   "cell_type": "code",
   "execution_count": 248,
   "metadata": {},
   "outputs": [
    {
     "data": {
      "text/plain": [
       "['bedrooms',\n",
       " 'bathrooms',\n",
       " 'floors',\n",
       " 'waterfront',\n",
       " 'condition',\n",
       " 'percent_bedbath',\n",
       " 'lowest_g',\n",
       " 'low_g',\n",
       " 'dnmc',\n",
       " 'above_avg',\n",
       " 'No_Waterfront',\n",
       " 'Waterfront',\n",
       " 'ratio_liv_lot',\n",
       " 'niche_grade^2',\n",
       " 'niche_grade yr_updated',\n",
       " 'niche_grade ratio_liv_lot',\n",
       " 'yr_updated^2',\n",
       " 'yr_updated ratio_liv_lot',\n",
       " 'ratio_liv_lot^2']"
      ]
     },
     "execution_count": 248,
     "metadata": {},
     "output_type": "execute_result"
    }
   ],
   "source": [
    "not_scaled = [x for x in X_train.columns if x not in scaled_features]\n",
    "not_scaled"
   ]
  },
  {
   "cell_type": "code",
   "execution_count": 249,
   "metadata": {},
   "outputs": [],
   "source": [
    "scaler = StandardScaler()\n",
    "\n",
    "# fit the scaler to the training data\n",
    "scaler.fit(X_train[scaled_features])\n",
    "\n",
    "#transform the training data\n",
    "scaled_data = scaler.transform(X_train[scaled_features])"
   ]
  },
  {
   "cell_type": "code",
   "execution_count": 250,
   "metadata": {},
   "outputs": [
    {
     "data": {
      "text/plain": [
       "(13832, 39)"
      ]
     },
     "execution_count": 250,
     "metadata": {},
     "output_type": "execute_result"
    }
   ],
   "source": [
    "X_train.shape"
   ]
  },
  {
   "cell_type": "code",
   "execution_count": 251,
   "metadata": {},
   "outputs": [
    {
     "data": {
      "text/plain": [
       "Index(['school_grade', 'population', 'bedrooms', 'bathrooms', 'sqft_living',\n",
       "       'sqft_lot', 'floors', 'waterfront', 'condition', 'sqft_above',\n",
       "       'sqft_basement', 'yr_built', 'yr_renovated', 'percent_bedbath',\n",
       "       'has_golden_ratio', 'lowest_g', 'low_g', 'dnmc', 'Poor', 'bare_min',\n",
       "       'average', 'above_avg', 'good', 'high_qua', 'higher_qua',\n",
       "       'excellent_qua', 'mansion', 'No_Waterfront', 'Waterfront',\n",
       "       'water_sqft_lot', 'niche_grade', 'yr_updated', 'ratio_liv_lot',\n",
       "       'niche_grade^2', 'niche_grade yr_updated', 'niche_grade ratio_liv_lot',\n",
       "       'yr_updated^2', 'yr_updated ratio_liv_lot', 'ratio_liv_lot^2'],\n",
       "      dtype='object')"
      ]
     },
     "execution_count": 251,
     "metadata": {},
     "output_type": "execute_result"
    }
   ],
   "source": [
    "X_train.columns"
   ]
  },
  {
   "cell_type": "code",
   "execution_count": 252,
   "metadata": {},
   "outputs": [
    {
     "data": {
      "text/plain": [
       "(13832, 20)"
      ]
     },
     "execution_count": 252,
     "metadata": {},
     "output_type": "execute_result"
    }
   ],
   "source": [
    "scaled_data.shape"
   ]
  },
  {
   "cell_type": "code",
   "execution_count": 253,
   "metadata": {},
   "outputs": [
    {
     "data": {
      "text/plain": [
       "20"
      ]
     },
     "execution_count": 253,
     "metadata": {},
     "output_type": "execute_result"
    }
   ],
   "source": [
    "len(scaled_features)"
   ]
  },
  {
   "cell_type": "code",
   "execution_count": 254,
   "metadata": {},
   "outputs": [],
   "source": [
    "X_train_scaled = pd.DataFrame(data=scaled_data, columns=scaled_features, index=X_train.index)"
   ]
  },
  {
   "cell_type": "code",
   "execution_count": 255,
   "metadata": {},
   "outputs": [],
   "source": [
    "X_train = pd.concat([X_train_scaled, X_train[not_scaled]], axis=1)"
   ]
  },
  {
   "cell_type": "markdown",
   "metadata": {},
   "source": [
    "### 5.3) Transform the testing set with the scaler."
   ]
  },
  {
   "cell_type": "code",
   "execution_count": 256,
   "metadata": {},
   "outputs": [],
   "source": [
    "#your code here \n",
    "scaled_test_data = scaler.transform(X_test[scaled_features])"
   ]
  },
  {
   "cell_type": "code",
   "execution_count": 257,
   "metadata": {},
   "outputs": [],
   "source": [
    "X_test_scaled = pd.DataFrame(data=scaled_test_data, columns=scaled_features, index=X_test.index)"
   ]
  },
  {
   "cell_type": "code",
   "execution_count": 258,
   "metadata": {},
   "outputs": [],
   "source": [
    "X_test = pd.concat([X_test_scaled, X_test[not_scaled]], axis=1)"
   ]
  },
  {
   "cell_type": "markdown",
   "metadata": {},
   "source": [
    "### 5.4) Fit the model to the training data."
   ]
  },
  {
   "cell_type": "code",
   "execution_count": 259,
   "metadata": {},
   "outputs": [],
   "source": [
    "#your code here \n",
    "#your code here \n",
    "#instantiate a linear regression object\n",
    "lm = LinearRegression()\n",
    "\n",
    "#fit the linear regression to the data\n",
    "lm = lm.fit(X_train, y_train)"
   ]
  },
  {
   "cell_type": "markdown",
   "metadata": {},
   "source": [
    "### 5.5) Use the model to predict on the training set and the test set."
   ]
  },
  {
   "cell_type": "code",
   "execution_count": 260,
   "metadata": {},
   "outputs": [],
   "source": [
    "#your code here \n",
    "y_train_pred = lm.predict(X_train)\n",
    "\n",
    "y_test_pred = lm.predict(X_test)"
   ]
  },
  {
   "cell_type": "markdown",
   "metadata": {},
   "source": [
    "### 5.6) Evaluate the training and test predictions using RMSE."
   ]
  },
  {
   "cell_type": "code",
   "execution_count": 261,
   "metadata": {},
   "outputs": [
    {
     "name": "stdout",
     "output_type": "stream",
     "text": [
      "Training Root Mean Squared Error: 186217.86597560364\n",
      "Training Root Mean Squared Error: 182021.65584622513\n"
     ]
    }
   ],
   "source": [
    "#your code here \n",
    "train_rmse = np.sqrt(metrics.mean_squared_error(y_train, y_train_pred))\n",
    "\n",
    "test_rmse = np.sqrt(metrics.mean_squared_error(y_test, y_test_pred))\n",
    "\n",
    "print('Training Root Mean Squared Error:' , train_rmse)\n",
    "print('Training Root Mean Squared Error:' , test_rmse)"
   ]
  },
  {
   "cell_type": "markdown",
   "metadata": {},
   "source": [
    "### 5.7) Determine if your model is overfit."
   ]
  },
  {
   "cell_type": "code",
   "execution_count": 192,
   "metadata": {},
   "outputs": [],
   "source": [
    "#your code here "
   ]
  },
  {
   "cell_type": "markdown",
   "metadata": {},
   "source": [
    "## Step 6: Utilize some different feature selection techniques before or in conjuction with fitting your models."
   ]
  },
  {
   "cell_type": "markdown",
   "metadata": {},
   "source": [
    "### 6.1) Utilize a filter method to identify some features to remove from the model.  "
   ]
  },
  {
   "cell_type": "code",
   "execution_count": 262,
   "metadata": {},
   "outputs": [
    {
     "data": {
      "text/plain": [
       "(13832, 39)"
      ]
     },
     "execution_count": 262,
     "metadata": {},
     "output_type": "execute_result"
    }
   ],
   "source": [
    "# your code here\n",
    "#F-test\n",
    "X_train.shape"
   ]
  },
  {
   "cell_type": "code",
   "execution_count": 276,
   "metadata": {},
   "outputs": [
    {
     "data": {
      "text/plain": [
       "SelectKBest(k=30, score_func=<function f_regression at 0x7fd0cd403a60>)"
      ]
     },
     "execution_count": 276,
     "metadata": {},
     "output_type": "execute_result"
    }
   ],
   "source": [
    "selector = SelectKBest(f_regression, k=30)\n",
    "\n",
    "selector.fit(X_train, y_train)"
   ]
  },
  {
   "cell_type": "code",
   "execution_count": 277,
   "metadata": {},
   "outputs": [],
   "source": [
    "selected_columns = X_train.columns[selector.get_support()]\n",
    "removed_columns = X_train.columns[~selector.get_support()]"
   ]
  },
  {
   "cell_type": "code",
   "execution_count": 278,
   "metadata": {},
   "outputs": [
    {
     "data": {
      "text/plain": [
       "['condition',\n",
       " 'percent_bedbath',\n",
       " 'lowest_g',\n",
       " 'low_g',\n",
       " 'dnmc',\n",
       " 'above_avg',\n",
       " 'ratio_liv_lot',\n",
       " 'yr_updated^2',\n",
       " 'ratio_liv_lot^2']"
      ]
     },
     "execution_count": 278,
     "metadata": {},
     "output_type": "execute_result"
    }
   ],
   "source": [
    "list(removed_columns)"
   ]
  },
  {
   "cell_type": "code",
   "execution_count": 279,
   "metadata": {},
   "outputs": [
    {
     "data": {
      "text/plain": [
       "['niche_grade',\n",
       " 'school_grade',\n",
       " 'population',\n",
       " 'sqft_living',\n",
       " 'sqft_lot',\n",
       " 'sqft_above',\n",
       " 'sqft_basement',\n",
       " 'yr_built',\n",
       " 'yr_renovated',\n",
       " 'yr_updated',\n",
       " 'has_golden_ratio',\n",
       " 'Poor',\n",
       " 'bare_min',\n",
       " 'average',\n",
       " 'good',\n",
       " 'high_qua',\n",
       " 'higher_qua',\n",
       " 'excellent_qua',\n",
       " 'mansion',\n",
       " 'water_sqft_lot',\n",
       " 'bedrooms',\n",
       " 'bathrooms',\n",
       " 'floors',\n",
       " 'waterfront',\n",
       " 'No_Waterfront',\n",
       " 'Waterfront',\n",
       " 'niche_grade^2',\n",
       " 'niche_grade yr_updated',\n",
       " 'niche_grade ratio_liv_lot',\n",
       " 'yr_updated ratio_liv_lot']"
      ]
     },
     "execution_count": 279,
     "metadata": {},
     "output_type": "execute_result"
    }
   ],
   "source": [
    "list(selected_columns)"
   ]
  },
  {
   "cell_type": "code",
   "execution_count": 280,
   "metadata": {},
   "outputs": [
    {
     "name": "stdout",
     "output_type": "stream",
     "text": [
      "Training Root Mean Squared Error: 187527.62787475027\n",
      "Testing Root Mean Squared Error: 183226.91543698692\n"
     ]
    }
   ],
   "source": [
    "#instantiate a linear regression object\n",
    "lm_kbest = LinearRegression()\n",
    "\n",
    "#fit the linear regression to the data\n",
    "lm_kbest.fit(X_train[selected_columns], y_train)\n",
    "\n",
    "y_train_kbest = lm_kbest.predict(X_train[selected_columns])\n",
    "\n",
    "\n",
    "trainK_rmse = np.sqrt(metrics.mean_squared_error(y_train, y_train_kbest))\n",
    "\n",
    "\n",
    "print('Training Root Mean Squared Error:' , trainK_rmse)\n",
    "\n",
    "y_kbest = lm_kbest.predict(X_test[selected_columns])\n",
    "\n",
    "testK_rmse = np.sqrt(metrics.mean_squared_error(y_test, y_kbest))\n",
    "\n",
    "print('Testing Root Mean Squared Error:' , testK_rmse)"
   ]
  },
  {
   "cell_type": "code",
   "execution_count": 268,
   "metadata": {},
   "outputs": [],
   "source": [
    "#REFECV\n",
    "from sklearn.feature_selection import RFECV"
   ]
  },
  {
   "cell_type": "code",
   "execution_count": 269,
   "metadata": {},
   "outputs": [],
   "source": [
    "ols = linear_model.LinearRegression()"
   ]
  },
  {
   "cell_type": "code",
   "execution_count": 270,
   "metadata": {},
   "outputs": [
    {
     "data": {
      "text/plain": [
       "RFECV(cv=5, estimator=LinearRegression(), n_jobs=-1,\n",
       "      scoring='neg_mean_squared_error', step=2, verbose=1)"
      ]
     },
     "execution_count": 270,
     "metadata": {},
     "output_type": "execute_result"
    }
   ],
   "source": [
    "# Create recursive feature eliminator that scores features by mean squared errors\n",
    "selector = RFECV(estimator=ols, step=2, cv=5, scoring='neg_mean_squared_error', n_jobs=-1, verbose=1)\n",
    "\n",
    "# Fit recursive feature eliminator \n",
    "selector.fit(X_train, y_train)\n"
   ]
  },
  {
   "cell_type": "code",
   "execution_count": 271,
   "metadata": {},
   "outputs": [],
   "source": [
    "selected_rfe = X_train.columns[selector.support_]\n",
    "removed_rfe = X_train.columns[~selector.support_]"
   ]
  },
  {
   "cell_type": "code",
   "execution_count": 272,
   "metadata": {},
   "outputs": [
    {
     "data": {
      "text/plain": [
       "Index(['niche_grade', 'school_grade', 'population', 'sqft_living', 'sqft_lot',\n",
       "       'sqft_above', 'sqft_basement', 'yr_built', 'yr_renovated', 'yr_updated',\n",
       "       'has_golden_ratio', 'Poor', 'bare_min', 'average', 'good', 'high_qua',\n",
       "       'higher_qua', 'excellent_qua', 'mansion', 'water_sqft_lot', 'bedrooms',\n",
       "       'bathrooms', 'floors', 'waterfront', 'condition', 'percent_bedbath',\n",
       "       'lowest_g', 'low_g', 'dnmc', 'above_avg', 'No_Waterfront', 'Waterfront',\n",
       "       'ratio_liv_lot', 'niche_grade^2', 'niche_grade yr_updated',\n",
       "       'niche_grade ratio_liv_lot', 'yr_updated^2', 'yr_updated ratio_liv_lot',\n",
       "       'ratio_liv_lot^2'],\n",
       "      dtype='object')"
      ]
     },
     "execution_count": 272,
     "metadata": {},
     "output_type": "execute_result"
    }
   ],
   "source": [
    "selected_rfe"
   ]
  },
  {
   "cell_type": "code",
   "execution_count": 273,
   "metadata": {},
   "outputs": [
    {
     "name": "stdout",
     "output_type": "stream",
     "text": [
      "Training Root Mean Squared Error: 186217.86597560364\n",
      "Testing Root Mean Squared Error: 182021.65584622513\n"
     ]
    }
   ],
   "source": [
    "#instantiate a linear regression object\n",
    "lm_rfe = LinearRegression()\n",
    "\n",
    "#fit the linear regression to the data\n",
    "lm_rfe = lm_rfe.fit(X_train[selected_rfe], y_train)\n",
    "\n",
    "y_rfe = lm_rfe.predict(X_train[selected_rfe])\n",
    "\n",
    "\n",
    "trainRFE_rmse = np.sqrt(metrics.mean_squared_error(y_train, y_rfe))\n",
    "\n",
    "\n",
    "print('Training Root Mean Squared Error:' , trainRFE_rmse)\n",
    "\n",
    "y_pred_rfe = lm_rfe.predict(X_test[selected_rfe])\n",
    "\n",
    "testRFE_rmse = np.sqrt(metrics.mean_squared_error(y_test, y_pred_rfe))\n",
    "\n",
    "print('Testing Root Mean Squared Error:' , testRFE_rmse)\n",
    "\n"
   ]
  },
  {
   "cell_type": "markdown",
   "metadata": {},
   "source": [
    "### 6.2) After removing the features, re-run Step 5 and see if your new model performs better than the old model."
   ]
  },
  {
   "cell_type": "code",
   "execution_count": 274,
   "metadata": {},
   "outputs": [],
   "source": [
    "effect_feat = ['niche_grade', 'school_grade', 'population', 'sqft_living', 'sqft_lot',\n",
    "       'sqft_above', 'sqft_basement', 'yr_built', 'yr_renovated', 'yr_updated',\n",
    "       'has_golden_ratio', 'Poor', 'bare_min', 'average', 'good', 'high_qua',\n",
    "       'higher_qua', 'excellent_qua', 'mansion', 'water_sqft_lot', 'bedrooms',\n",
    "       'bathrooms', 'floors', 'waterfront', 'condition', 'percent_bedbath',\n",
    "       'lowest_g', 'low_g', 'dnmc', 'above_avg', 'No_Waterfront', 'Waterfront',\n",
    "       'ratio_liv_lot', 'niche_grade^2', 'niche_grade yr_updated',\n",
    "       'niche_grade ratio_liv_lot', 'yr_updated^2', 'yr_updated ratio_liv_lot',\n",
    "       'ratio_liv_lot^2']"
   ]
  },
  {
   "cell_type": "code",
   "execution_count": 275,
   "metadata": {},
   "outputs": [
    {
     "name": "stdout",
     "output_type": "stream",
     "text": [
      "Training:  186217 vs. Testing:  182021\n"
     ]
    }
   ],
   "source": [
    "model_test(scale_df, effect_feat, target)"
   ]
  },
  {
   "cell_type": "markdown",
   "metadata": {},
   "source": [
    "## Step 7: Evaluate your different models in order to determine the best model overall."
   ]
  },
  {
   "cell_type": "markdown",
   "metadata": {},
   "source": [
    "## Step 8:  Refit your best model to the entire dataset."
   ]
  },
  {
   "cell_type": "code",
   "execution_count": null,
   "metadata": {},
   "outputs": [],
   "source": []
  },
  {
   "cell_type": "code",
   "execution_count": null,
   "metadata": {},
   "outputs": [],
   "source": []
  },
  {
   "cell_type": "markdown",
   "metadata": {},
   "source": [
    "## Step 9: Save your final model using pickle.\n",
    "\n",
    "https://machinelearningmastery.com/save-load-machine-learning-models-python-scikit-learn/"
   ]
  },
  {
   "cell_type": "code",
   "execution_count": null,
   "metadata": {},
   "outputs": [],
   "source": []
  }
 ],
 "metadata": {
  "kernelspec": {
   "display_name": "Python 3",
   "language": "python",
   "name": "python3"
  },
  "language_info": {
   "codemirror_mode": {
    "name": "ipython",
    "version": 3
   },
   "file_extension": ".py",
   "mimetype": "text/x-python",
   "name": "python",
   "nbconvert_exporter": "python",
   "pygments_lexer": "ipython3",
   "version": "3.8.5"
  }
 },
 "nbformat": 4,
 "nbformat_minor": 4
}
